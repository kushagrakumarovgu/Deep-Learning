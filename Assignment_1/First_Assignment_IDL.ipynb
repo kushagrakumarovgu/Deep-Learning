{
  "cells": [
    {
      "cell_type": "markdown",
      "metadata": {
        "id": "q4RBWS1HYzaC"
      },
      "source": [
        "Assignment 1: https://ovgu-ailab.github.io/idl2020w/ass1.html\n"
      ]
    },
    {
      "cell_type": "code",
      "execution_count": 97,
      "metadata": {
        "colab": {
          "base_uri": "https://localhost:8080/"
        },
        "id": "mhSCC7uFXixi",
        "outputId": "7a748bdc-7fe5-4492-de49-ac8ac13b20e0",
        "vscode": {
          "languageId": "python"
        }
      },
      "outputs": [
        {
          "name": "stdout",
          "output_type": "stream",
          "text": [
            "2.3.0\n"
          ]
        }
      ],
      "source": [
        "import tensorflow as tf\n",
        "import numpy as np\n",
        "import matplotlib.pyplot as plt\n",
        "from datasets import MNISTDataset\n",
        "import matplotlib.pyplot as plt\n",
        "\n",
        "print(tf.__version__)"
      ]
    },
    {
      "cell_type": "code",
      "execution_count": 98,
      "metadata": {
        "colab": {
          "base_uri": "https://localhost:8080/",
          "height": 282
        },
        "id": "qYLhifJCZ7n0",
        "outputId": "c9e22391-d30f-4f5e-94dd-932cc9e0116d",
        "vscode": {
          "languageId": "python"
        }
      },
      "outputs": [
        {
          "name": "stdout",
          "output_type": "stream",
          "text": [
            "(60000, 28, 28)\n"
          ]
        },
        {
          "data": {
            "image/png": "[encoded data removed]",
            "text/plain": [
              "<Figure size 432x288 with 1 Axes>"
            ]
          },
          "metadata": {
            "needs_background": "light",
            "tags": []
          },
          "output_type": "display_data"
        }
      ],
      "source": [
        "mnist = tf.keras.datasets.mnist\n",
        "(train_images, train_labels), (test_images, test_labels) = mnist.load_data()\n",
        "\n",
        "\n",
        "# since the image is 28 * 28 = 784 pixels. So, the input to the netwrok is 784.\n",
        "data = MNISTDataset(train_images.reshape([-1, 784]), train_labels, \n",
        "                    test_images.reshape([-1, 784]), test_labels,\n",
        "                    batch_size=128)\n",
        "\n",
        "plt.imshow(train_images[0], cmap=\"Greys_r\")\n",
        "#print(train_images[0])\n",
        "print(train_images.shape)\n",
        "\n"
      ]
    },
    {
      "cell_type": "code",
      "execution_count": 99,
      "metadata": {
        "id": "gDvgYAyxacK2",
        "vscode": {
          "languageId": "python"
        }
      },
      "outputs": [],
      "source": [
        "\"\"\" \n",
        "function generating the weights and paramters the network.\n",
        "inputs = 784 for MNIST data set.\n",
        "min_val & max_val specify the range for weights initialization.\n",
        "bias_val = To initialize the biases.\n",
        "hidden_units is a list that contain no. of neuron at each hidden layer.\n",
        "\"\"\"\n",
        "def network_generation(inputs, min_val, max_val, bias_val, hidden_units = [200,100,50]):\n",
        "    j = 1\n",
        "    weight_lst = [] \n",
        "    bias_lst = [] \n",
        "    weight_dict = {}\n",
        "    bias_dict = {}\n",
        "    for neuron in hidden_units:\n",
        "      weight_lst.append('w_%d'%j)\n",
        "      bias_lst.append('b_%d'%j)\n",
        "      j+=1\n",
        "\n",
        "    for param in range(len(weight_lst)):\n",
        "      neuron = hidden_units[param]\n",
        "      weight_dict[weight_lst[param]] = tf.Variable(tf.random.uniform(shape=[inputs, neuron], minval=min_val, maxval=max_val, dtype=tf.float32))\n",
        "      bias_dict[bias_lst[param]] = tf.Variable(tf.constant(bias_val, shape=neuron, dtype=tf.float32))\n",
        "      inputs = neuron\n",
        "\n",
        "    return weight_dict, bias_dict"
      ]
    },
    {
      "cell_type": "code",
      "execution_count": 100,
      "metadata": {
        "colab": {
          "base_uri": "https://localhost:8080/"
        },
        "id": "mIOaFbGik11f",
        "outputId": "5563c5a3-6e4f-4e8e-d7c4-24bb052aa62b",
        "vscode": {
          "languageId": "python"
        }
      },
      "outputs": [
        {
          "name": "stdout",
          "output_type": "stream",
          "text": [
            "{'w_1': <tf.Variable 'Variable:0' shape=(784, 2) dtype=float32, numpy=\n",
            "array([[-0.00667262, -0.08560133],\n",
            "       [ 0.06732772, -0.05189705],\n",
            "       [-0.08704324, -0.03906634],\n",
            "       ...,\n",
            "       [ 0.07881511, -0.08459134],\n",
            "       [-0.06078725,  0.09863601],\n",
            "       [ 0.04393769, -0.08723328]], dtype=float32)>, 'w_2': <tf.Variable 'Variable:0' shape=(2, 2) dtype=float32, numpy=\n",
            "array([[ 0.09801855, -0.07389717],\n",
            "       [-0.04724658,  0.01540804]], dtype=float32)>}\n",
            "{'b_1': <tf.Variable 'Variable:0' shape=(2,) dtype=float32, numpy=array([1., 1.], dtype=float32)>, 'b_2': <tf.Variable 'Variable:0' shape=(2,) dtype=float32, numpy=array([1., 1.], dtype=float32)>}\n"
          ]
        }
      ],
      "source": [
        "# sample o/p for function network_generation for network with 2 hidden units and 2 neurons each.\n",
        "hidden_unit = [2,2]\n",
        "weight_dict , bias_dict = network_generation(784,-0.1,0.1,1,hidden_unit)\n",
        "print(weight_dict)\n",
        "print(bias_dict)"
      ]
    },
    {
      "cell_type": "code",
      "execution_count": 101,
      "metadata": {
        "id": "Pa6kc4zPilhL",
        "vscode": {
          "languageId": "python"
        }
      },
      "outputs": [],
      "source": [
        "\"\"\" function for forward_prop \"\"\"\n",
        "\n",
        "def forward_prop(train_steps, data, hidden_units, weight_dict, bias_dict, activation, W_out, b_out):\n",
        "\n",
        "    step_accuracy = []\n",
        "    step_loss = []\n",
        "    setp_epoch = []\n",
        "\n",
        "    for step in range(train_steps):\n",
        "      img_batch, lbl_batch = data.next_batch()\n",
        "\n",
        "      hidden = list()\n",
        "      with tf.GradientTape() as tape:\n",
        "        for i in range(len(hidden_units)):\n",
        "          hidden.append(activation(tf.matmul(img_batch, weight_dict[list(weight_dict.keys())[i]]) + bias_dict[list(bias_dict.keys())[i]]))\n",
        "          img_batch = hidden[i]\n",
        "\n",
        "        out = tf.matmul(hidden[-1], W_out) + b_out\n",
        "        xent = tf.reduce_mean(tf.nn.sparse_softmax_cross_entropy_with_logits(\n",
        "                logits=out, labels=lbl_batch))\n",
        "\n",
        "        weights = [weight_dict[k] for k in list(weight_dict.keys())]\n",
        "        biases = [bias_dict[k] for k in list(bias_dict.keys())]\n",
        "\n",
        "        total_layer =  weights + biases + [W_out, b_out]\n",
        "        grads = tape.gradient(xent, total_layer)\n",
        "        \n",
        "        weight_grad = 0\n",
        "        for k,v in weight_dict.items():\n",
        "            weight_dict[k].assign_sub(learning_rate * grads[weight_grad])\n",
        "            weight_grad+=1\n",
        "\n",
        "        for k,v in bias_dict.items():\n",
        "            bias_dict[k].assign_sub(learning_rate * grads[weight_grad])\n",
        "            weight_grad+=1\n",
        "        \n",
        "        W_out.assign_sub(learning_rate * grads[weight_grad])\n",
        "        weight_grad+=1\n",
        "        b_out.assign_sub(learning_rate * grads[weight_grad])\n",
        "\n",
        "        if not step % 100:\n",
        "            preds = tf.argmax(out, axis=1, output_type=tf.int32)\n",
        "            acc = tf.reduce_mean(tf.cast(tf.equal(preds, lbl_batch),\n",
        "                                tf.float32))\n",
        "            print(\"Loss: {} Accuracy: {}\".format(xent, acc))\n",
        "            step_accuracy.append(acc)\n",
        "            step_loss.append(xent)\n",
        "            setp_epoch.append(step)\n",
        "        \n",
        "    return step_accuracy, step_loss, setp_epoch, weight_dict, bias_dict, W_out, b_out"
      ]
    },
    {
      "cell_type": "code",
      "execution_count": 102,
      "metadata": {
        "id": "CfqK8sOujiQV",
        "vscode": {
          "languageId": "python"
        }
      },
      "outputs": [],
      "source": [
        "\"\"\" function for to calculate Accuracy on testing data.\"\"\"\n",
        "def prediction(data, hidden_units, weight_dict, bias_dict, activation, W_out, b_out):\n",
        "    hidden = list()\n",
        "    img_batch = data.test_data\n",
        "    for i in range(len(hidden_units)):\n",
        "        hidden.append(activation(tf.matmul(img_batch, weight_dict[list(weight_dict.keys())[i]]) + bias_dict[list(bias_dict.keys())[i]]))\n",
        "        img_batch = hidden[i]\n",
        "\n",
        "    out = tf.matmul(hidden[-1], W_out) + b_out\n",
        "\n",
        "    test_preds = tf.argmax(tf.matmul(hidden[-1], W_out) + b_out, axis=1, output_type=tf.int32)\n",
        "    acc = tf.reduce_mean(tf.cast(tf.equal(test_preds, data.test_labels),tf.float32))\n",
        "    print(\"Accuracy on prediction data: \",acc)"
      ]
    },
    {
      "cell_type": "markdown",
      "metadata": {
        "id": "tvnITaIuj7DL"
      },
      "source": [
        "Below is the network containing a single hidden layer of 200 neurons.\n",
        "Activation function: relu\n"
      ]
    },
    {
      "cell_type": "code",
      "execution_count": 103,
      "metadata": {
        "colab": {
          "base_uri": "https://localhost:8080/"
        },
        "id": "6bRm6BHej9r6",
        "outputId": "85e22355-6773-49ab-8833-d0e4b563f35a",
        "vscode": {
          "languageId": "python"
        }
      },
      "outputs": [
        {
          "name": "stdout",
          "output_type": "stream",
          "text": [
            "Loss: 62.76837158203125 Accuracy: 0.0546875\n",
            "Loss: 3.6910440921783447 Accuracy: 0.7265625\n",
            "Loss: 1.7380681037902832 Accuracy: 0.8359375\n",
            "Loss: 1.1944210529327393 Accuracy: 0.8984375\n",
            "Loss: 0.780323326587677 Accuracy: 0.90625\n",
            "Starting new epoch...\n",
            "Loss: 0.7964587807655334 Accuracy: 0.8828125\n",
            "Loss: 0.6326226592063904 Accuracy: 0.890625\n",
            "Loss: 0.41700467467308044 Accuracy: 0.9375\n",
            "Loss: 0.235131174325943 Accuracy: 0.921875\n",
            "Loss: 0.589575469493866 Accuracy: 0.9296875\n",
            "Starting new epoch...\n",
            "Loss: 0.519894003868103 Accuracy: 0.875\n",
            "Loss: 0.43872132897377014 Accuracy: 0.9375\n",
            "Loss: 0.6925572752952576 Accuracy: 0.90625\n",
            "Loss: 0.3576883375644684 Accuracy: 0.921875\n",
            "Loss: 0.4398546814918518 Accuracy: 0.9296875\n",
            "Starting new epoch...\n",
            "Loss: 0.7232489585876465 Accuracy: 0.8984375\n",
            "Loss: 0.22047318518161774 Accuracy: 0.9296875\n",
            "Loss: 0.5236872434616089 Accuracy: 0.9140625\n",
            "Loss: 0.38888442516326904 Accuracy: 0.9140625\n",
            "Starting new epoch...\n",
            "Loss: 0.042916566133499146 Accuracy: 0.9921875\n",
            "Loss: 0.1772768497467041 Accuracy: 0.953125\n",
            "Loss: 0.16574595868587494 Accuracy: 0.9375\n",
            "Loss: 0.22947552800178528 Accuracy: 0.9375\n",
            "Loss: 0.049009405076503754 Accuracy: 0.984375\n",
            "Starting new epoch...\n",
            "Loss: 0.19269335269927979 Accuracy: 0.9296875\n",
            "Loss: 0.4700722098350525 Accuracy: 0.90625\n",
            "Loss: 0.2615671157836914 Accuracy: 0.9375\n",
            "Loss: 0.2559926509857178 Accuracy: 0.953125\n",
            "Loss: 0.35464078187942505 Accuracy: 0.9375\n",
            "Starting new epoch...\n",
            "Loss: 0.1471996158361435 Accuracy: 0.9453125\n",
            "Loss: 0.1403486728668213 Accuracy: 0.953125\n",
            "Loss: 0.2950913906097412 Accuracy: 0.9140625\n",
            "Loss: 0.18009816110134125 Accuracy: 0.9609375\n",
            "Starting new epoch...\n",
            "Loss: 0.13523179292678833 Accuracy: 0.96875\n",
            "Loss: 0.12651214003562927 Accuracy: 0.9765625\n",
            "Loss: 0.13768014311790466 Accuracy: 0.9765625\n",
            "Loss: 0.1635829508304596 Accuracy: 0.9375\n",
            "Loss: 0.2914593517780304 Accuracy: 0.9453125\n",
            "Starting new epoch...\n",
            "Loss: 0.19619308412075043 Accuracy: 0.9609375\n",
            "Loss: 0.13542717695236206 Accuracy: 0.96875\n",
            "Loss: 0.34692567586898804 Accuracy: 0.9140625\n",
            "Loss: 0.23482704162597656 Accuracy: 0.953125\n",
            "Loss: 0.15916302800178528 Accuracy: 0.9609375\n",
            "Starting new epoch...\n",
            "Loss: 0.09449409693479538 Accuracy: 0.96875\n",
            "Loss: 0.06386039406061172 Accuracy: 0.9765625\n",
            "Loss: 0.1008242517709732 Accuracy: 0.9453125\n",
            "Loss: 0.31100374460220337 Accuracy: 0.9375\n",
            "Starting new epoch...\n",
            "Loss: 0.21059270203113556 Accuracy: 0.9609375\n",
            "Loss: 0.16483983397483826 Accuracy: 0.9296875\n",
            "Loss: 0.3067181706428528 Accuracy: 0.921875\n",
            "Loss: 0.09072503447532654 Accuracy: 0.984375\n",
            "Loss: 0.17987191677093506 Accuracy: 0.9296875\n",
            "Starting new epoch...\n",
            "Loss: 0.09518218040466309 Accuracy: 0.96875\n",
            "Loss: 0.18322668969631195 Accuracy: 0.9453125\n",
            "Loss: 0.16468483209609985 Accuracy: 0.9609375\n",
            "Loss: 0.10809174925088882 Accuracy: 0.9765625\n",
            "Loss: 0.13673409819602966 Accuracy: 0.953125\n",
            "Starting new epoch...\n",
            "Loss: 0.14686408638954163 Accuracy: 0.9609375\n",
            "Loss: 0.06284643709659576 Accuracy: 0.9765625\n",
            "Loss: 0.07798894494771957 Accuracy: 0.96875\n",
            "Loss: 0.09252028912305832 Accuracy: 0.9609375\n",
            "Starting new epoch...\n",
            "Loss: 0.11672902852296829 Accuracy: 0.9765625\n",
            "Loss: 0.16047927737236023 Accuracy: 0.96875\n",
            "Loss: 0.15659701824188232 Accuracy: 0.9609375\n",
            "Loss: 0.08617891371250153 Accuracy: 0.9765625\n",
            "Loss: 0.18332646787166595 Accuracy: 0.953125\n",
            "Starting new epoch...\n",
            "Loss: 0.11362651735544205 Accuracy: 0.9453125\n",
            "Loss: 0.10267224907875061 Accuracy: 0.96875\n",
            "Loss: 0.12966860830783844 Accuracy: 0.9453125\n",
            "Loss: 0.14953018724918365 Accuracy: 0.9765625\n",
            "Accuracy on prediction data:  tf.Tensor(0.9424, shape=(), dtype=float32)\n"
          ]
        }
      ],
      "source": [
        "num_class = 10\n",
        "train_steps = 7000\n",
        "learning_rate = 0.1\n",
        "hidden_units = [200]\n",
        "activation = tf.nn.relu\n",
        "\n",
        "\n",
        "W_out = tf.Variable(tf.random.uniform(shape=[200, num_class], minval=-1, maxval=1, dtype=tf.float32))\n",
        "b_out = tf.Variable(tf.constant(0, shape=num_class, dtype=tf.float32))\n",
        "\n",
        "weight_dict, bias_dict = network_generation(784, -1, 1, 0, hidden_units)\n",
        "accuracy, loss, epoch, weight, bias, out_wt, out_bias = forward_prop(train_steps, data, hidden_units, weight_dict, bias_dict, activation, W_out, b_out)\n",
        "\n",
        "prediction(data, hidden_units, weight, bias, activation, out_wt, out_bias)"
      ]
    },
    {
      "cell_type": "code",
      "execution_count": 104,
      "metadata": {
        "id": "1WFQgy21nDL8",
        "vscode": {
          "languageId": "python"
        }
      },
      "outputs": [],
      "source": [
        "def plotgraph(plots):\n",
        "    for i in [0,1 ]:\n",
        "      fig = plt.figure(figsize=(15,5))\n",
        "      ax = fig.add_subplot(1,3,i+1)\n",
        "      ax.grid()\n",
        "      plt.plot(epoch, plots[i])\n",
        "      plt.show()"
      ]
    },
    {
      "cell_type": "markdown",
      "metadata": {
        "id": "47wolVndmyEv"
      },
      "source": [
        "Graphs for Accuracy and Loss values"
      ]
    },
    {
      "cell_type": "code",
      "execution_count": 105,
      "metadata": {
        "colab": {
          "base_uri": "https://localhost:8080/",
          "height": 623
        },
        "id": "Md0VoDxGsAPR",
        "outputId": "6601c5b7-3c97-4c7c-a554-c1b586fd7c79",
        "vscode": {
          "languageId": "python"
        }
      },
      "outputs": [
        {
          "data": {
            "image/png": "[encoded data removed]",
            "text/plain": [
              "<Figure size 1080x360 with 1 Axes>"
            ]
          },
          "metadata": {
            "needs_background": "light",
            "tags": []
          },
          "output_type": "display_data"
        },
        {
          "data": {
            "image/png": "[encoded data removed]",
            "text/plain": [
              "<Figure size 1080x360 with 1 Axes>"
            ]
          },
          "metadata": {
            "needs_background": "light",
            "tags": []
          },
          "output_type": "display_data"
        }
      ],
      "source": [
        "plotgraph([accuracy, loss])"
      ]
    },
    {
      "cell_type": "markdown",
      "metadata": {
        "id": "mS20PmDBnYh0"
      },
      "source": [
        "Below is the network consisting of 2 hidden layers of 50 and 200 neurons, trained for 4000 epochs, with the learning rate of 0.1\n",
        "Activation function: relu"
      ]
    },
    {
      "cell_type": "code",
      "execution_count": 106,
      "metadata": {
        "colab": {
          "base_uri": "https://localhost:8080/"
        },
        "id": "osyEiOP4nbIc",
        "outputId": "3a7d2428-5c91-4c06-8ee8-4f9650f646ff",
        "vscode": {
          "languageId": "python"
        }
      },
      "outputs": [
        {
          "name": "stdout",
          "output_type": "stream",
          "text": [
            "Loss: 116.44566345214844 Accuracy: 0.09375\n",
            "Starting new epoch...\n",
            "Loss: 2.0545756816864014 Accuracy: 0.3046875\n",
            "Loss: 1.6672892570495605 Accuracy: 0.40625\n",
            "Loss: 1.67434561252594 Accuracy: 0.4296875\n",
            "Loss: 1.3867971897125244 Accuracy: 0.5703125\n",
            "Loss: 1.342388391494751 Accuracy: 0.5078125\n",
            "Starting new epoch...\n",
            "Loss: 1.3995106220245361 Accuracy: 0.578125\n",
            "Loss: 1.5550861358642578 Accuracy: 0.5703125\n",
            "Loss: 1.126440405845642 Accuracy: 0.6875\n",
            "Loss: 1.3147218227386475 Accuracy: 0.625\n",
            "Starting new epoch...\n",
            "Loss: 1.0710885524749756 Accuracy: 0.6953125\n",
            "Loss: 0.8645374774932861 Accuracy: 0.7734375\n",
            "Loss: 0.7243316769599915 Accuracy: 0.734375\n",
            "Loss: 1.407801866531372 Accuracy: 0.65625\n",
            "Loss: 0.5546558499336243 Accuracy: 0.84375\n",
            "Starting new epoch...\n",
            "Loss: 0.8828940391540527 Accuracy: 0.6875\n",
            "Loss: 1.0291197299957275 Accuracy: 0.6875\n",
            "Loss: 0.6633627414703369 Accuracy: 0.765625\n",
            "Loss: 0.6580823659896851 Accuracy: 0.8359375\n",
            "Loss: 0.6374828815460205 Accuracy: 0.8203125\n",
            "Starting new epoch...\n",
            "Loss: 0.587739109992981 Accuracy: 0.828125\n",
            "Loss: 0.4203285276889801 Accuracy: 0.828125\n",
            "Loss: 0.7547470331192017 Accuracy: 0.78125\n",
            "Loss: 0.6098238825798035 Accuracy: 0.828125\n",
            "Starting new epoch...\n",
            "Loss: 0.5038247108459473 Accuracy: 0.84375\n",
            "Loss: 0.5819514989852905 Accuracy: 0.8359375\n",
            "Loss: 0.5767266750335693 Accuracy: 0.828125\n",
            "Loss: 0.4148600697517395 Accuracy: 0.8984375\n",
            "Loss: 0.6393589973449707 Accuracy: 0.8203125\n",
            "Starting new epoch...\n",
            "Loss: 0.4744047522544861 Accuracy: 0.8203125\n",
            "Loss: 0.6157761812210083 Accuracy: 0.8046875\n",
            "Loss: 0.5558472871780396 Accuracy: 0.8203125\n",
            "Loss: 0.5520341992378235 Accuracy: 0.875\n",
            "Loss: 0.42543524503707886 Accuracy: 0.890625\n",
            "Starting new epoch...\n",
            "Loss: 0.4253522753715515 Accuracy: 0.8671875\n",
            "Loss: 0.5449297428131104 Accuracy: 0.8125\n",
            "Loss: 0.48799648880958557 Accuracy: 0.8671875\n",
            "Loss: 0.21599552035331726 Accuracy: 0.9453125\n",
            "Starting new epoch...\n",
            "Loss: 0.5568498373031616 Accuracy: 0.8125\n",
            "Loss: 0.2767764627933502 Accuracy: 0.8984375\n",
            "Accuracy on prediction data:  tf.Tensor(0.8702, shape=(), dtype=float32)\n"
          ]
        }
      ],
      "source": [
        "num_class = 10\n",
        "train_steps = 4000\n",
        "learning_rate = 0.1\n",
        "hidden_units = [50,200]\n",
        "activation = tf.nn.relu\n",
        "\n",
        "W_out = tf.Variable(tf.random.uniform(shape=[200, num_class], minval=-1, maxval=1, dtype=tf.float32))\n",
        "b_out = tf.Variable(tf.constant(0, shape=num_class, dtype=tf.float32))\n",
        "\n",
        "weight_dict, bias_dict = network_generation(784, -1, 1, 0, hidden_units)\n",
        "accuracy, loss, epoch, weight, bias, out_wt, out_bias = forward_prop(train_steps, data, hidden_units, weight_dict, bias_dict, activation, W_out, b_out)\n",
        "\n",
        "prediction(data, hidden_units, weight, bias, activation, out_wt, out_bias)"
      ]
    },
    {
      "cell_type": "markdown",
      "metadata": {
        "id": "NdAv804dnr9X"
      },
      "source": [
        "Plots for the accurcy and loss for training data for the above trained network"
      ]
    },
    {
      "cell_type": "code",
      "execution_count": 107,
      "metadata": {
        "colab": {
          "base_uri": "https://localhost:8080/",
          "height": 623
        },
        "id": "p4oSgYJ8nroR",
        "outputId": "1c4acdd4-a328-43bc-f914-f1d32ee5669b",
        "vscode": {
          "languageId": "python"
        }
      },
      "outputs": [
        {
          "data": {
            "image/png": "[encoded data removed]",
            "text/plain": [
              "<Figure size 1080x360 with 1 Axes>"
            ]
          },
          "metadata": {
            "needs_background": "light",
            "tags": []
          },
          "output_type": "display_data"
        },
        {
          "data": {
            "image/png": "[encoded data removed]",
            "text/plain": [
              "<Figure size 1080x360 with 1 Axes>"
            ]
          },
          "metadata": {
            "needs_background": "light",
            "tags": []
          },
          "output_type": "display_data"
        }
      ],
      "source": [
        "plotgraph([accuracy, loss])"
      ]
    },
    {
      "cell_type": "markdown",
      "metadata": {
        "id": "v0WpMKOPn5qY"
      },
      "source": [
        "Network with three hidden units consiting of 50,150 and 200 neurons, with the learning rate value of 0.01 , trained for 4000 epochs.\n",
        "Activation function: tanh"
      ]
    },
    {
      "cell_type": "code",
      "execution_count": 108,
      "metadata": {
        "colab": {
          "base_uri": "https://localhost:8080/"
        },
        "id": "zPHhb2bDn7ur",
        "outputId": "c944b057-d481-4e4c-c009-ffdb067b643d",
        "vscode": {
          "languageId": "python"
        }
      },
      "outputs": [
        {
          "name": "stdout",
          "output_type": "stream",
          "text": [
            "Loss: 11.860147476196289 Accuracy: 0.078125\n",
            "Loss: 7.127269744873047 Accuracy: 0.2109375\n",
            "Loss: 4.599708557128906 Accuracy: 0.5\n",
            "Starting new epoch...\n",
            "Loss: 3.7488086223602295 Accuracy: 0.4765625\n",
            "Loss: 2.6072659492492676 Accuracy: 0.59375\n",
            "Loss: 2.667738437652588 Accuracy: 0.59375\n",
            "Loss: 2.8567423820495605 Accuracy: 0.5703125\n",
            "Loss: 2.66267728805542 Accuracy: 0.6328125\n",
            "Starting new epoch...\n",
            "Loss: 1.522003173828125 Accuracy: 0.6796875\n",
            "Loss: 2.4497289657592773 Accuracy: 0.625\n",
            "Loss: 1.5259604454040527 Accuracy: 0.671875\n",
            "Loss: 1.4480880498886108 Accuracy: 0.7265625\n",
            "Starting new epoch...\n",
            "Loss: 1.7033860683441162 Accuracy: 0.734375\n",
            "Loss: 1.3262255191802979 Accuracy: 0.703125\n",
            "Loss: 1.2032438516616821 Accuracy: 0.7890625\n",
            "Loss: 1.6591236591339111 Accuracy: 0.6796875\n",
            "Loss: 1.5956379175186157 Accuracy: 0.765625\n",
            "Starting new epoch...\n",
            "Loss: 1.2370805740356445 Accuracy: 0.78125\n",
            "Loss: 1.7710323333740234 Accuracy: 0.7578125\n",
            "Loss: 0.9324479699134827 Accuracy: 0.796875\n",
            "Loss: 1.4525519609451294 Accuracy: 0.7578125\n",
            "Loss: 1.3837040662765503 Accuracy: 0.6875\n",
            "Starting new epoch...\n",
            "Loss: 1.1628427505493164 Accuracy: 0.765625\n",
            "Loss: 1.3778890371322632 Accuracy: 0.7890625\n",
            "Loss: 1.1249514818191528 Accuracy: 0.796875\n",
            "Loss: 1.5173287391662598 Accuracy: 0.7734375\n",
            "Starting new epoch...\n",
            "Loss: 1.7338237762451172 Accuracy: 0.7083333134651184\n",
            "Loss: 1.2460196018218994 Accuracy: 0.734375\n",
            "Loss: 0.7769825458526611 Accuracy: 0.8125\n",
            "Loss: 1.0466833114624023 Accuracy: 0.8203125\n",
            "Loss: 1.022822618484497 Accuracy: 0.8046875\n",
            "Starting new epoch...\n",
            "Loss: 0.7934920787811279 Accuracy: 0.8359375\n",
            "Loss: 1.3005867004394531 Accuracy: 0.7578125\n",
            "Loss: 0.9010807275772095 Accuracy: 0.78125\n",
            "Loss: 1.1620638370513916 Accuracy: 0.8046875\n",
            "Loss: 0.716077446937561 Accuracy: 0.8359375\n",
            "Starting new epoch...\n",
            "Loss: 1.1154104471206665 Accuracy: 0.7890625\n",
            "Loss: 1.0645116567611694 Accuracy: 0.7890625\n",
            "Loss: 1.15688157081604 Accuracy: 0.8046875\n",
            "Loss: 0.8071572780609131 Accuracy: 0.8359375\n",
            "Accuracy on prediction data:  tf.Tensor(0.7804, shape=(), dtype=float32)\n"
          ]
        }
      ],
      "source": [
        "num_class = 10\n",
        "train_steps = 4000\n",
        "learning_rate = 0.01\n",
        "hidden_units = [50,150,200]\n",
        "activation = tf.nn.tanh\n",
        "\n",
        "W_out = tf.Variable(tf.random.uniform(shape=[200, num_class], minval=-1, maxval=1, dtype=tf.float32))\n",
        "b_out = tf.Variable(tf.constant(0, shape=num_class, dtype=tf.float32))\n",
        "\n",
        "weight_dict, bias_dict = network_generation(784, -1, 1, 0, hidden_units)\n",
        "accuracy, loss, epoch, weight, bias, out_wt, out_bias = forward_prop(train_steps, data, hidden_units, weight_dict, bias_dict, activation, W_out, b_out)\n",
        "\n",
        "prediction(data, hidden_units, weight, bias, activation, out_wt, out_bias)"
      ]
    },
    {
      "cell_type": "markdown",
      "metadata": {
        "id": "udm_nPqmowPl"
      },
      "source": [
        "Plots depicting the accuracy and loss value for the above network."
      ]
    },
    {
      "cell_type": "code",
      "execution_count": 109,
      "metadata": {
        "colab": {
          "base_uri": "https://localhost:8080/",
          "height": 623
        },
        "id": "NwpDjnlhowkl",
        "outputId": "432b9080-efc3-4659-f56f-25e6fb477aa6",
        "vscode": {
          "languageId": "python"
        }
      },
      "outputs": [
        {
          "data": {
            "image/png": "[encoded data removed]",
            "text/plain": [
              "<Figure size 1080x360 with 1 Axes>"
            ]
          },
          "metadata": {
            "needs_background": "light",
            "tags": []
          },
          "output_type": "display_data"
        },
        {
          "data": {
            "image/png": "[encoded data removed]",
            "text/plain": [
              "<Figure size 1080x360 with 1 Axes>"
            ]
          },
          "metadata": {
            "needs_background": "light",
            "tags": []
          },
          "output_type": "display_data"
        }
      ],
      "source": [
        "plotgraph([accuracy, loss])"
      ]
    },
    {
      "cell_type": "markdown",
      "metadata": {
        "id": "0g_h2Lwwpnwt"
      },
      "source": [
        "**MNIST Fashion Data set** "
      ]
    },
    {
      "cell_type": "code",
      "execution_count": 110,
      "metadata": {
        "colab": {
          "base_uri": "https://localhost:8080/",
          "height": 265
        },
        "id": "9CIEUMcHpuKW",
        "outputId": "ee00ecb5-2e0a-472a-9c6e-6d5028b8c1a9",
        "vscode": {
          "languageId": "python"
        }
      },
      "outputs": [
        {
          "data": {
            "image/png": "[encoded data removed]",
            "text/plain": [
              "<Figure size 432x288 with 1 Axes>"
            ]
          },
          "metadata": {
            "needs_background": "light",
            "tags": []
          },
          "output_type": "display_data"
        }
      ],
      "source": [
        "mnist = tf.keras.datasets.fashion_mnist\n",
        "(train_images, train_labels), (test_images, test_labels) = mnist.load_data()\n",
        "\n",
        "plt.imshow(train_images[0], cmap=\"Greys_r\")\n",
        "\n",
        "data = MNISTDataset(train_images.reshape([-1, 784]), train_labels, \n",
        "                    test_images.reshape([-1, 784]), test_labels,\n",
        "                    batch_size=128)"
      ]
    },
    {
      "cell_type": "code",
      "execution_count": 111,
      "metadata": {
        "colab": {
          "base_uri": "https://localhost:8080/"
        },
        "id": "rWM3avR6p7EL",
        "outputId": "0e272647-a86c-4e6e-c7c5-2f70c3523e56",
        "vscode": {
          "languageId": "python"
        }
      },
      "outputs": [
        {
          "name": "stdout",
          "output_type": "stream",
          "text": [
            "Loss: 57.58604431152344 Accuracy: 0.0078125\n",
            "Loss: 4.510759353637695 Accuracy: 0.6328125\n",
            "Loss: 6.881874084472656 Accuracy: 0.5546875\n",
            "Loss: 5.645758152008057 Accuracy: 0.671875\n",
            "Loss: 3.9256107807159424 Accuracy: 0.6640625\n",
            "Starting new epoch...\n",
            "Loss: 3.910831928253174 Accuracy: 0.6796875\n",
            "Loss: 2.990933418273926 Accuracy: 0.6875\n",
            "Loss: 3.5026464462280273 Accuracy: 0.703125\n",
            "Loss: 1.8582568168640137 Accuracy: 0.796875\n",
            "Loss: 2.8279967308044434 Accuracy: 0.7265625\n",
            "Starting new epoch...\n",
            "Loss: 3.058070421218872 Accuracy: 0.734375\n",
            "Loss: 1.5966814756393433 Accuracy: 0.8125\n",
            "Loss: 1.5409321784973145 Accuracy: 0.7578125\n",
            "Loss: 2.779524326324463 Accuracy: 0.6796875\n",
            "Loss: 2.524130344390869 Accuracy: 0.7265625\n",
            "Starting new epoch...\n",
            "Loss: 1.8432848453521729 Accuracy: 0.796875\n",
            "Loss: 2.1348681449890137 Accuracy: 0.796875\n",
            "Loss: 1.258917212486267 Accuracy: 0.8359375\n",
            "Loss: 1.2406771183013916 Accuracy: 0.8359375\n",
            "Starting new epoch...\n",
            "Loss: 0.9504184722900391 Accuracy: 0.7734375\n",
            "Loss: 0.9936774969100952 Accuracy: 0.8515625\n",
            "Loss: 1.8323915004730225 Accuracy: 0.765625\n",
            "Loss: 1.0505868196487427 Accuracy: 0.8515625\n",
            "Loss: 1.8335140943527222 Accuracy: 0.765625\n",
            "Starting new epoch...\n",
            "Loss: 1.235649824142456 Accuracy: 0.796875\n",
            "Loss: 2.1324656009674072 Accuracy: 0.7265625\n",
            "Loss: 0.8919426202774048 Accuracy: 0.8359375\n",
            "Loss: 1.097576379776001 Accuracy: 0.8359375\n",
            "Loss: 1.3931987285614014 Accuracy: 0.796875\n",
            "Starting new epoch...\n",
            "Loss: 0.8619672060012817 Accuracy: 0.8125\n",
            "Loss: 0.9764600992202759 Accuracy: 0.8125\n",
            "Loss: 1.0875046253204346 Accuracy: 0.8125\n",
            "Loss: 1.4674733877182007 Accuracy: 0.796875\n",
            "Starting new epoch...\n",
            "Loss: 0.7936193943023682 Accuracy: 0.8125\n",
            "Loss: 1.2487059831619263 Accuracy: 0.7734375\n",
            "Loss: 1.5957884788513184 Accuracy: 0.8125\n",
            "Loss: 1.8999183177947998 Accuracy: 0.734375\n",
            "Loss: 1.536385416984558 Accuracy: 0.734375\n",
            "Starting new epoch...\n",
            "Loss: 1.697884440422058 Accuracy: 0.78125\n",
            "Loss: 1.372249722480774 Accuracy: 0.7578125\n",
            "Accuracy on prediction data:  tf.Tensor(0.7781, shape=(), dtype=float32)\n"
          ]
        }
      ],
      "source": [
        "num_class = 10\n",
        "train_steps = 4000\n",
        "learning_rate = 0.01\n",
        "hidden_units = [200]\n",
        "activation = tf.nn.relu\n",
        "\n",
        "W_out = tf.Variable(tf.random.uniform(shape=[200, num_class], minval=-1, maxval=1, dtype=tf.float32))\n",
        "b_out = tf.Variable(tf.constant(0, shape=num_class, dtype=tf.float32))\n",
        "\n",
        "weight_dict, bias_dict = network_generation(784, -1, 1, 0, hidden_units)\n",
        "accuracy, loss, epoch, weight, bias, out_wt, out_bias = forward_prop(train_steps, data, hidden_units, weight_dict, bias_dict, activation, W_out, b_out)\n",
        "\n",
        "prediction(data, hidden_units, weight, bias, activation, out_wt, out_bias)"
      ]
    },
    {
      "cell_type": "code",
      "execution_count": 112,
      "metadata": {
        "colab": {
          "base_uri": "https://localhost:8080/",
          "height": 625
        },
        "id": "Bvtuz2KaqxDs",
        "outputId": "548492a9-57ec-48e0-f584-b52b3c4f4a0e",
        "vscode": {
          "languageId": "python"
        }
      },
      "outputs": [
        {
          "data": {
            "image/png": "[encoded data removed]",
            "text/plain": [
              "<Figure size 1080x360 with 1 Axes>"
            ]
          },
          "metadata": {
            "needs_background": "light",
            "tags": []
          },
          "output_type": "display_data"
        },
        {
          "data": {
            "image/png": "[encoded data removed]",
            "text/plain": [
              "<Figure size 1080x360 with 1 Axes>"
            ]
          },
          "metadata": {
            "needs_background": "light",
            "tags": []
          },
          "output_type": "display_data"
        }
      ],
      "source": [
        "plotgraph([accuracy, loss])"
      ]
    },
    {
      "cell_type": "code",
      "execution_count": 113,
      "metadata": {
        "colab": {
          "base_uri": "https://localhost:8080/",
          "height": 625
        },
        "id": "PslcaDq7qzGs",
        "outputId": "edc8d521-de3d-4a67-c2ed-0a3d8e6a2ba7",
        "vscode": {
          "languageId": "python"
        }
      },
      "outputs": [
        {
          "data": {
            "image/png": "[encoded data removed]",
            "text/plain": [
              "<Figure size 1080x360 with 1 Axes>"
            ]
          },
          "metadata": {
            "needs_background": "light",
            "tags": []
          },
          "output_type": "display_data"
        },
        {
          "data": {
            "image/png": "[encoded data removed]",
            "text/plain": [
              "<Figure size 1080x360 with 1 Axes>"
            ]
          },
          "metadata": {
            "needs_background": "light",
            "tags": []
          },
          "output_type": "display_data"
        }
      ],
      "source": [
        "plotgraph([accuracy,loss])"
      ]
    },
    {
      "cell_type": "code",
      "execution_count": 114,
      "metadata": {
        "colab": {
          "base_uri": "https://localhost:8080/"
        },
        "id": "jtx6m73qtekx",
        "outputId": "774c61a6-ba19-41d4-a51a-f9a8accf8c6e",
        "vscode": {
          "languageId": "python"
        }
      },
      "outputs": [
        {
          "name": "stdout",
          "output_type": "stream",
          "text": [
            "Loss: 10.110072135925293 Accuracy: 0.0390625\n",
            "Loss: 1.1316174268722534 Accuracy: 0.6796875\n",
            "Loss: 0.8068944811820984 Accuracy: 0.7265625\n",
            "Starting new epoch...\n",
            "Loss: 0.8414962291717529 Accuracy: 0.6875\n",
            "Loss: 0.9559849500656128 Accuracy: 0.703125\n",
            "Loss: 1.0528582334518433 Accuracy: 0.6875\n",
            "Loss: 0.6729953289031982 Accuracy: 0.78125\n",
            "Starting new epoch...\n",
            "Loss: 0.7039480209350586 Accuracy: 0.71875\n",
            "Loss: 0.5375185012817383 Accuracy: 0.796875\n",
            "Loss: 0.755151629447937 Accuracy: 0.71875\n",
            "Loss: 0.6991528868675232 Accuracy: 0.7265625\n",
            "Loss: 0.5503082275390625 Accuracy: 0.7890625\n",
            "Starting new epoch...\n",
            "Loss: 0.7451468706130981 Accuracy: 0.75\n",
            "Loss: 0.5633894801139832 Accuracy: 0.7890625\n",
            "Loss: 0.6809872388839722 Accuracy: 0.7421875\n",
            "Loss: 0.56001216173172 Accuracy: 0.796875\n",
            "Loss: 0.6715667247772217 Accuracy: 0.734375\n",
            "Starting new epoch...\n",
            "Loss: 0.4724023938179016 Accuracy: 0.8515625\n",
            "Loss: 0.6148360967636108 Accuracy: 0.75\n",
            "Loss: 0.5262647867202759 Accuracy: 0.78125\n",
            "Loss: 0.5324080586433411 Accuracy: 0.8359375\n",
            "Starting new epoch...\n",
            "Loss: 0.528030514717102 Accuracy: 0.796875\n",
            "Loss: 0.5687921047210693 Accuracy: 0.8125\n",
            "Loss: 0.5305014252662659 Accuracy: 0.7890625\n",
            "Loss: 0.519790768623352 Accuracy: 0.8046875\n",
            "Loss: 0.6133742332458496 Accuracy: 0.8046875\n",
            "Starting new epoch...\n",
            "Loss: 0.44955652952194214 Accuracy: 0.8359375\n",
            "Loss: 0.6133029460906982 Accuracy: 0.75\n",
            "Loss: 0.4532707631587982 Accuracy: 0.8203125\n",
            "Loss: 0.4644811153411865 Accuracy: 0.828125\n",
            "Loss: 0.5808261632919312 Accuracy: 0.78125\n",
            "Starting new epoch...\n",
            "Loss: 0.602709174156189 Accuracy: 0.796875\n",
            "Loss: 0.47499531507492065 Accuracy: 0.859375\n",
            "Loss: 0.5981143712997437 Accuracy: 0.75\n",
            "Loss: 0.5313165187835693 Accuracy: 0.8203125\n",
            "Loss: 0.41551390290260315 Accuracy: 0.859375\n",
            "Starting new epoch...\n",
            "Loss: 0.4485284686088562 Accuracy: 0.8359375\n",
            "Loss: 0.5426698923110962 Accuracy: 0.7890625\n",
            "Loss: 0.35237109661102295 Accuracy: 0.890625\n",
            "Loss: 0.5628224611282349 Accuracy: 0.8203125\n",
            "Starting new epoch...\n",
            "Accuracy on prediction data:  tf.Tensor(0.7949, shape=(), dtype=float32)\n"
          ]
        }
      ],
      "source": [
        "num_class = 10\n",
        "train_steps = 4000\n",
        "learning_rate = 0.1\n",
        "hidden_units = [50, 150]\n",
        "activation = tf.nn.tanh\n",
        "\n",
        "W_out = tf.Variable(tf.random.uniform(shape=[150, num_class], minval=-1, maxval=1, dtype=tf.float32))\n",
        "b_out = tf.Variable(tf.constant(0, shape=num_class, dtype=tf.float32))\n",
        "\n",
        "weight_dict, bias_dict = network_generation(784, -1, 1, 0, hidden_units)\n",
        "accuracy, loss, epoch, weight, bias, out_wt, out_bias = forward_prop(train_steps, data, hidden_units, weight_dict, bias_dict, activation, W_out, b_out)\n",
        "\n",
        "prediction(data, hidden_units, weight, bias, activation, out_wt, out_bias)"
      ]
    },
    {
      "cell_type": "code",
      "execution_count": 115,
      "metadata": {
        "colab": {
          "base_uri": "https://localhost:8080/",
          "height": 623
        },
        "id": "7aF9Ju-stm1c",
        "outputId": "7d651bea-59ea-4163-fe5a-f8e59450f3ed",
        "vscode": {
          "languageId": "python"
        }
      },
      "outputs": [
        {
          "data": {
            "image/png": "[encoded data removed]",
            "text/plain": [
              "<Figure size 1080x360 with 1 Axes>"
            ]
          },
          "metadata": {
            "needs_background": "light",
            "tags": []
          },
          "output_type": "display_data"
        },
        {
          "data": {
            "image/png": "[encoded data removed]",
            "text/plain": [
              "<Figure size 1080x360 with 1 Axes>"
            ]
          },
          "metadata": {
            "needs_background": "light",
            "tags": []
          },
          "output_type": "display_data"
        }
      ],
      "source": [
        "plotgraph([accuracy,loss])"
      ]
    },
    {
      "cell_type": "markdown",
      "metadata": {
        "id": "wWWZoewftvTl"
      },
      "source": [
        "currently we are making the network by defining the architecture manually multiplying the weights with the input and passing this as input to the next layer, this entire\n",
        "functionality in one function.\n",
        "\n",
        "Parameters such as num_hidden layers, epochs, learning_rate should not be defined again and again, rather should be coming from a config, where changing the values in function \n",
        "should be able to run the training."
      ]
    }
  ],
  "metadata": {
    "colab": {
      "collapsed_sections": [],
      "name": "First_Assignment_IDL.ipynb",
      "provenance": []
    },
    "kernelspec": {
      "display_name": "Python 3",
      "name": "python3"
    }
  },
  "nbformat": 4,
  "nbformat_minor": 0
}
