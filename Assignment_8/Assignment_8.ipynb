{
  "cells": [
    {
      "cell_type": "markdown",
      "metadata": {
        "id": "NwXxTajnS_er"
      },
      "source": [
        "Assignment 8 problem statement: https://ovgu-ailab.github.io/idl2020w/ass8.html"
      ]
    },
    {
      "cell_type": "code",
      "execution_count": 9,
      "metadata": {
        "id": "6Up6D02kn5dJ",
        "vscode": {
          "languageId": "python"
        }
      },
      "outputs": [],
      "source": [
        "import tensorflow as tf\n",
        "from tensorflow import keras\n",
        "from tensorflow.keras.models import Sequential\n",
        "from tensorflow.keras.optimizers import Adam\n",
        "from tensorflow.keras.metrics import categorical_crossentropy\n",
        "import numpy as np\n",
        "import matplotlib.pyplot as plt"
      ]
    },
    {
      "cell_type": "code",
      "execution_count": 10,
      "metadata": {
        "colab": {
          "base_uri": "https://localhost:8080/"
        },
        "id": "bsc9xoZKn7zX",
        "outputId": "8962b8b3-96d1-4d99-f1c0-4ca347f5bcbe",
        "vscode": {
          "languageId": "python"
        }
      },
      "outputs": [
        {
          "name": "stdout",
          "output_type": "stream",
          "text": [
            "Number of GPUs Available:  1\n"
          ]
        }
      ],
      "source": [
        "physical_devices = tf.config.experimental.list_physical_devices('GPU')\n",
        "print(\"Number of GPUs Available: \",len(physical_devices))\n",
        "tf.config.experimental.set_memory_growth(physical_devices[0],True)"
      ]
    },
    {
      "cell_type": "code",
      "execution_count": 11,
      "metadata": {
        "colab": {
          "base_uri": "https://localhost:8080/",
          "height": 520
        },
        "id": "d0AM0qUYoEEZ",
        "outputId": "78d83917-503e-4242-c136-35c2ef6a5787",
        "vscode": {
          "languageId": "python"
        }
      },
      "outputs": [
        {
          "name": "stdout",
          "output_type": "stream",
          "text": [
            "Downloading data from https://storage.googleapis.com/tensorflow/tf-keras-datasets/train-labels-idx1-ubyte.gz\n",
            "32768/29515 [=================================] - 0s 0us/step\n",
            "Downloading data from https://storage.googleapis.com/tensorflow/tf-keras-datasets/train-images-idx3-ubyte.gz\n",
            "26427392/26421880 [==============================] - 0s 0us/step\n",
            "Downloading data from https://storage.googleapis.com/tensorflow/tf-keras-datasets/t10k-labels-idx1-ubyte.gz\n",
            "8192/5148 [===============================================] - 0s 0us/step\n",
            "Downloading data from https://storage.googleapis.com/tensorflow/tf-keras-datasets/t10k-images-idx3-ubyte.gz\n",
            "4423680/4422102 [==============================] - 0s 0us/step\n",
            "img_shape (28, 28)\n",
            "(60000, 28, 28)\n",
            "(10000, 28, 28)\n",
            "(60000,)\n",
            "(28, 28)\n",
            "(60000, 784)\n"
          ]
        },
        {
          "data": {
            "text/plain": [
              "<matplotlib.image.AxesImage at 0x7f971c3ee3c8>"
            ]
          },
          "execution_count": 11,
          "metadata": {
            "tags": []
          },
          "output_type": "execute_result"
        },
        {
          "data": {
            "image/png": "[encoded data removed]",
            "text/plain": [
              "<Figure size 432x288 with 1 Axes>"
            ]
          },
          "metadata": {
            "needs_background": "light",
            "tags": []
          },
          "output_type": "display_data"
        }
      ],
      "source": [
        "# Load fashion MNIST Data set.\n",
        "\n",
        "fashion_mnist = tf.keras.datasets.fashion_mnist\n",
        "(train_images, train_labels), (test_images, test_labels) = fashion_mnist.load_data()\n",
        "\n",
        "train_images = train_images / 255.0\n",
        "test_images = test_images / 255.0\n",
        "\n",
        "img_shape = train_images[0].shape\n",
        "print(\"img_shape\",img_shape)\n",
        "\n",
        "train_images_as_output = train_images.reshape([-1, 28 * 28]).astype(np.float32)\n",
        "test_images_as_output = test_images.reshape([-1, 28 * 28]).astype(np.float32)\n",
        "\n",
        "print(train_images.shape)\n",
        "print(test_images.shape)\n",
        "print(train_labels.shape)\n",
        "print(train_images[0].shape)\n",
        "print(train_images_as_output.shape)\n",
        "input_shape = train_images[0].shape\n",
        "\n",
        "#show the first image.\n",
        "\n",
        "plt.imshow(train_images[2])"
      ]
    },
    {
      "cell_type": "code",
      "execution_count": 37,
      "metadata": {
        "colab": {
          "base_uri": "https://localhost:8080/"
        },
        "id": "oBtx5Yu7Tr0N",
        "outputId": "2804c0cd-8c60-4501-f4ab-ea2f2f1c1b4f",
        "vscode": {
          "languageId": "python"
        }
      },
      "outputs": [
        {
          "name": "stdout",
          "output_type": "stream",
          "text": [
            "(60000, 784)\n"
          ]
        }
      ],
      "source": [
        "print(train_images_as_output.shape)"
      ]
    },
    {
      "cell_type": "code",
      "execution_count": 15,
      "metadata": {
        "colab": {
          "base_uri": "https://localhost:8080/"
        },
        "id": "FiJT6HBtoUx9",
        "outputId": "d5075759-d158-43b2-b497-173f9050b8b4",
        "vscode": {
          "languageId": "python"
        }
      },
      "outputs": [
        {
          "name": "stdout",
          "output_type": "stream",
          "text": [
            "Model: \"sequential_4\"\n",
            "_________________________________________________________________\n",
            "Layer (type)                 Output Shape              Param #   \n",
            "=================================================================\n",
            "flatten_4 (Flatten)          (None, 784)               0         \n",
            "_________________________________________________________________\n",
            "dense_24 (Dense)             (None, 128)               100480    \n",
            "_________________________________________________________________\n",
            "dense_25 (Dense)             (None, 64)                8256      \n",
            "_________________________________________________________________\n",
            "dense_26 (Dense)             (None, 32)                2080      \n",
            "_________________________________________________________________\n",
            "dense_27 (Dense)             (None, 64)                2112      \n",
            "_________________________________________________________________\n",
            "dense_28 (Dense)             (None, 128)               8320      \n",
            "_________________________________________________________________\n",
            "dense_29 (Dense)             (None, 784)               101136    \n",
            "=================================================================\n",
            "Total params: 222,384\n",
            "Trainable params: 222,384\n",
            "Non-trainable params: 0\n",
            "_________________________________________________________________\n",
            "Epoch 1/100\n",
            "235/235 [==============================] - 1s 4ms/step - loss: 0.3870 - accuracy: 0.0086\n",
            "Epoch 2/100\n",
            "235/235 [==============================] - 1s 4ms/step - loss: 0.3028 - accuracy: 0.0127\n",
            "Epoch 3/100\n",
            "235/235 [==============================] - 1s 4ms/step - loss: 0.2949 - accuracy: 0.0152\n",
            "Epoch 4/100\n",
            "235/235 [==============================] - 1s 4ms/step - loss: 0.2921 - accuracy: 0.0177\n",
            "Epoch 5/100\n",
            "235/235 [==============================] - 1s 4ms/step - loss: 0.2900 - accuracy: 0.0201\n",
            "Epoch 6/100\n",
            "235/235 [==============================] - 1s 4ms/step - loss: 0.2883 - accuracy: 0.0202\n",
            "Epoch 7/100\n",
            "235/235 [==============================] - 1s 4ms/step - loss: 0.2872 - accuracy: 0.0219\n",
            "Epoch 8/100\n",
            "235/235 [==============================] - 1s 4ms/step - loss: 0.2860 - accuracy: 0.0215\n",
            "Epoch 9/100\n",
            "235/235 [==============================] - 1s 4ms/step - loss: 0.2858 - accuracy: 0.0243\n",
            "Epoch 10/100\n",
            "235/235 [==============================] - 1s 4ms/step - loss: 0.2850 - accuracy: 0.0234\n",
            "Epoch 11/100\n",
            "235/235 [==============================] - 1s 4ms/step - loss: 0.2839 - accuracy: 0.0229\n",
            "Epoch 12/100\n",
            "235/235 [==============================] - 1s 4ms/step - loss: 0.2842 - accuracy: 0.0248\n",
            "Epoch 13/100\n",
            "235/235 [==============================] - 1s 4ms/step - loss: 0.2835 - accuracy: 0.0240\n",
            "Epoch 14/100\n",
            "235/235 [==============================] - 1s 4ms/step - loss: 0.2838 - accuracy: 0.0239\n",
            "Epoch 15/100\n",
            "235/235 [==============================] - 1s 3ms/step - loss: 0.2831 - accuracy: 0.0254\n",
            "Epoch 16/100\n",
            "235/235 [==============================] - 1s 4ms/step - loss: 0.2832 - accuracy: 0.0248\n",
            "Epoch 17/100\n",
            "235/235 [==============================] - 1s 3ms/step - loss: 0.2820 - accuracy: 0.0262\n",
            "Epoch 18/100\n",
            "235/235 [==============================] - 1s 4ms/step - loss: 0.2827 - accuracy: 0.0255\n",
            "Epoch 19/100\n",
            "235/235 [==============================] - 1s 4ms/step - loss: 0.2816 - accuracy: 0.0278\n",
            "Epoch 20/100\n",
            "235/235 [==============================] - 1s 4ms/step - loss: 0.2814 - accuracy: 0.0273\n",
            "Epoch 21/100\n",
            "235/235 [==============================] - 1s 4ms/step - loss: 0.2819 - accuracy: 0.0270\n",
            "Epoch 22/100\n",
            "235/235 [==============================] - 1s 4ms/step - loss: 0.2811 - accuracy: 0.0282\n",
            "Epoch 23/100\n",
            "235/235 [==============================] - 1s 4ms/step - loss: 0.2808 - accuracy: 0.0272\n",
            "Epoch 24/100\n",
            "235/235 [==============================] - 1s 3ms/step - loss: 0.2811 - accuracy: 0.0266\n",
            "Epoch 25/100\n",
            "235/235 [==============================] - 1s 4ms/step - loss: 0.2809 - accuracy: 0.0262\n",
            "Epoch 26/100\n",
            "235/235 [==============================] - 1s 4ms/step - loss: 0.2811 - accuracy: 0.0281\n",
            "Epoch 27/100\n",
            "235/235 [==============================] - 1s 4ms/step - loss: 0.2807 - accuracy: 0.0269\n",
            "Epoch 28/100\n",
            "235/235 [==============================] - 1s 4ms/step - loss: 0.2804 - accuracy: 0.0272\n",
            "Epoch 29/100\n",
            "235/235 [==============================] - 1s 4ms/step - loss: 0.2804 - accuracy: 0.0279\n",
            "Epoch 30/100\n",
            "235/235 [==============================] - 1s 3ms/step - loss: 0.2798 - accuracy: 0.0279\n",
            "Epoch 31/100\n",
            "235/235 [==============================] - 1s 4ms/step - loss: 0.2811 - accuracy: 0.0288\n",
            "Epoch 32/100\n",
            "235/235 [==============================] - 1s 4ms/step - loss: 0.2800 - accuracy: 0.0286\n",
            "Epoch 33/100\n",
            "235/235 [==============================] - 1s 4ms/step - loss: 0.2799 - accuracy: 0.0283\n",
            "Epoch 34/100\n",
            "235/235 [==============================] - 1s 4ms/step - loss: 0.2807 - accuracy: 0.0293\n",
            "Epoch 35/100\n",
            "235/235 [==============================] - 1s 4ms/step - loss: 0.2789 - accuracy: 0.0292\n",
            "Epoch 36/100\n",
            "235/235 [==============================] - 1s 4ms/step - loss: 0.2802 - accuracy: 0.0285\n",
            "Epoch 37/100\n",
            "235/235 [==============================] - 1s 4ms/step - loss: 0.2794 - accuracy: 0.0288\n",
            "Epoch 38/100\n",
            "235/235 [==============================] - 1s 4ms/step - loss: 0.2791 - accuracy: 0.0299\n",
            "Epoch 39/100\n",
            "235/235 [==============================] - 1s 4ms/step - loss: 0.2794 - accuracy: 0.0304\n",
            "Epoch 40/100\n",
            "235/235 [==============================] - 1s 4ms/step - loss: 0.2798 - accuracy: 0.0288\n",
            "Epoch 41/100\n",
            "235/235 [==============================] - 1s 4ms/step - loss: 0.2797 - accuracy: 0.0282\n",
            "Epoch 42/100\n",
            "235/235 [==============================] - 1s 4ms/step - loss: 0.2792 - accuracy: 0.0298\n",
            "Epoch 43/100\n",
            "235/235 [==============================] - 1s 4ms/step - loss: 0.2795 - accuracy: 0.0274\n",
            "Epoch 44/100\n",
            "235/235 [==============================] - 1s 4ms/step - loss: 0.2796 - accuracy: 0.0301\n",
            "Epoch 45/100\n",
            "235/235 [==============================] - 1s 4ms/step - loss: 0.2790 - accuracy: 0.0301\n",
            "Epoch 46/100\n",
            "235/235 [==============================] - 1s 4ms/step - loss: 0.2793 - accuracy: 0.0297\n",
            "Epoch 47/100\n",
            "235/235 [==============================] - 1s 4ms/step - loss: 0.2797 - accuracy: 0.0289\n",
            "Epoch 48/100\n",
            "235/235 [==============================] - 1s 4ms/step - loss: 0.2791 - accuracy: 0.0306\n",
            "Epoch 49/100\n",
            "235/235 [==============================] - 1s 4ms/step - loss: 0.2793 - accuracy: 0.0288\n",
            "Epoch 50/100\n",
            "235/235 [==============================] - 1s 4ms/step - loss: 0.2789 - accuracy: 0.0299\n",
            "Epoch 51/100\n",
            "235/235 [==============================] - 1s 4ms/step - loss: 0.2788 - accuracy: 0.0304\n",
            "Epoch 52/100\n",
            "235/235 [==============================] - 1s 4ms/step - loss: 0.2790 - accuracy: 0.0312\n",
            "Epoch 53/100\n",
            "235/235 [==============================] - 1s 3ms/step - loss: 0.2788 - accuracy: 0.0279\n",
            "Epoch 54/100\n",
            "235/235 [==============================] - 1s 3ms/step - loss: 0.2785 - accuracy: 0.0286\n",
            "Epoch 55/100\n",
            "235/235 [==============================] - 1s 3ms/step - loss: 0.2792 - accuracy: 0.0300\n",
            "Epoch 56/100\n",
            "235/235 [==============================] - 1s 4ms/step - loss: 0.2790 - accuracy: 0.0303\n",
            "Epoch 57/100\n",
            "235/235 [==============================] - 1s 4ms/step - loss: 0.2795 - accuracy: 0.0307\n",
            "Epoch 58/100\n",
            "235/235 [==============================] - 1s 4ms/step - loss: 0.2790 - accuracy: 0.0318\n",
            "Epoch 59/100\n",
            "235/235 [==============================] - 1s 4ms/step - loss: 0.2792 - accuracy: 0.0290\n",
            "Epoch 60/100\n",
            "235/235 [==============================] - 1s 4ms/step - loss: 0.2790 - accuracy: 0.0309\n",
            "Epoch 61/100\n",
            "235/235 [==============================] - 1s 4ms/step - loss: 0.2791 - accuracy: 0.0299\n",
            "Epoch 62/100\n",
            "235/235 [==============================] - 1s 4ms/step - loss: 0.2785 - accuracy: 0.0305\n",
            "Epoch 63/100\n",
            "235/235 [==============================] - 1s 4ms/step - loss: 0.2789 - accuracy: 0.0299\n",
            "Epoch 64/100\n",
            "235/235 [==============================] - 1s 4ms/step - loss: 0.2791 - accuracy: 0.0300\n",
            "Epoch 65/100\n",
            "235/235 [==============================] - 1s 3ms/step - loss: 0.2787 - accuracy: 0.0311\n",
            "Epoch 66/100\n",
            "235/235 [==============================] - 1s 4ms/step - loss: 0.2794 - accuracy: 0.0308\n",
            "Epoch 67/100\n",
            "235/235 [==============================] - 1s 3ms/step - loss: 0.2780 - accuracy: 0.0303\n",
            "Epoch 68/100\n",
            "235/235 [==============================] - 1s 4ms/step - loss: 0.2790 - accuracy: 0.0305\n",
            "Epoch 69/100\n",
            "235/235 [==============================] - 1s 4ms/step - loss: 0.2793 - accuracy: 0.0297\n",
            "Epoch 70/100\n",
            "235/235 [==============================] - 1s 4ms/step - loss: 0.2790 - accuracy: 0.0307\n",
            "Epoch 71/100\n",
            "235/235 [==============================] - 1s 4ms/step - loss: 0.2792 - accuracy: 0.0292\n",
            "Epoch 72/100\n",
            "235/235 [==============================] - 1s 4ms/step - loss: 0.2773 - accuracy: 0.0298\n",
            "Epoch 73/100\n",
            "235/235 [==============================] - 1s 4ms/step - loss: 0.2784 - accuracy: 0.0307\n",
            "Epoch 74/100\n",
            "235/235 [==============================] - 1s 4ms/step - loss: 0.2784 - accuracy: 0.0320\n",
            "Epoch 75/100\n",
            "235/235 [==============================] - 1s 4ms/step - loss: 0.2790 - accuracy: 0.0310\n",
            "Epoch 76/100\n",
            "235/235 [==============================] - 1s 4ms/step - loss: 0.2785 - accuracy: 0.0310\n",
            "Epoch 77/100\n",
            "235/235 [==============================] - 1s 4ms/step - loss: 0.2783 - accuracy: 0.0302\n",
            "Epoch 78/100\n",
            "235/235 [==============================] - 1s 4ms/step - loss: 0.2787 - accuracy: 0.0303\n",
            "Epoch 79/100\n",
            "235/235 [==============================] - 1s 4ms/step - loss: 0.2788 - accuracy: 0.0321\n",
            "Epoch 80/100\n",
            "235/235 [==============================] - 1s 4ms/step - loss: 0.2789 - accuracy: 0.0292\n",
            "Epoch 81/100\n",
            "235/235 [==============================] - 1s 4ms/step - loss: 0.2782 - accuracy: 0.0305\n",
            "Epoch 82/100\n",
            "235/235 [==============================] - 1s 4ms/step - loss: 0.2791 - accuracy: 0.0314\n",
            "Epoch 83/100\n",
            "235/235 [==============================] - 1s 4ms/step - loss: 0.2784 - accuracy: 0.0302\n",
            "Epoch 84/100\n",
            "235/235 [==============================] - 1s 4ms/step - loss: 0.2782 - accuracy: 0.0294\n",
            "Epoch 85/100\n",
            "235/235 [==============================] - 1s 4ms/step - loss: 0.2787 - accuracy: 0.0308\n",
            "Epoch 86/100\n",
            "235/235 [==============================] - 1s 3ms/step - loss: 0.2782 - accuracy: 0.0313\n",
            "Epoch 87/100\n",
            "235/235 [==============================] - 1s 4ms/step - loss: 0.2786 - accuracy: 0.0309\n",
            "Epoch 88/100\n",
            "235/235 [==============================] - 1s 4ms/step - loss: 0.2786 - accuracy: 0.0302\n",
            "Epoch 89/100\n",
            "235/235 [==============================] - 1s 4ms/step - loss: 0.2783 - accuracy: 0.0320\n",
            "Epoch 90/100\n",
            "235/235 [==============================] - 1s 4ms/step - loss: 0.2784 - accuracy: 0.0308\n",
            "Epoch 91/100\n",
            "235/235 [==============================] - 1s 4ms/step - loss: 0.2786 - accuracy: 0.0290\n",
            "Epoch 92/100\n",
            "235/235 [==============================] - 1s 4ms/step - loss: 0.2775 - accuracy: 0.0304\n",
            "Epoch 93/100\n",
            "235/235 [==============================] - 1s 4ms/step - loss: 0.2781 - accuracy: 0.0307\n",
            "Epoch 94/100\n",
            "235/235 [==============================] - 1s 4ms/step - loss: 0.2786 - accuracy: 0.0308\n",
            "Epoch 95/100\n",
            "235/235 [==============================] - 1s 4ms/step - loss: 0.2779 - accuracy: 0.0309\n",
            "Epoch 96/100\n",
            "235/235 [==============================] - 1s 4ms/step - loss: 0.2789 - accuracy: 0.0298\n",
            "Epoch 97/100\n",
            "235/235 [==============================] - 1s 4ms/step - loss: 0.2789 - accuracy: 0.0306\n",
            "Epoch 98/100\n",
            "235/235 [==============================] - 1s 4ms/step - loss: 0.2787 - accuracy: 0.0312\n",
            "Epoch 99/100\n",
            "235/235 [==============================] - 1s 4ms/step - loss: 0.2787 - accuracy: 0.0312\n",
            "Epoch 100/100\n",
            "235/235 [==============================] - 1s 4ms/step - loss: 0.2790 - accuracy: 0.0308\n"
          ]
        },
        {
          "data": {
            "text/plain": [
              "<tensorflow.python.keras.callbacks.History at 0x7f971c0712b0>"
            ]
          },
          "execution_count": 15,
          "metadata": {
            "tags": []
          },
          "output_type": "execute_result"
        }
      ],
      "source": [
        "def gen_autoencoder_MLP(inputshape,d_layers,l_activation,o_activation):\n",
        "  model = tf.keras.Sequential()\n",
        "  model.add(tf.keras.layers.Flatten(input_shape=inputshape))\n",
        "  for units in d_layers:\n",
        "    model.add(tf.keras.layers.Dense(units,l_activation))\n",
        "  else:\n",
        "    f_shape = 1\n",
        "    for ele in inputshape:\n",
        "      f_shape *= ele\n",
        "    #print(\"f_shape: \",f_shape)\n",
        "    model.add(tf.keras.layers.Dense(f_shape,o_activation))\n",
        "  \n",
        "  return model\n",
        "\n",
        "model = gen_autoencoder_MLP(img_shape,[128,64,32,64,128],tf.nn.relu,tf.nn.sigmoid)\n",
        "model.summary()\n",
        "optimizer = tf.keras.optimizers.Adam(0.01)\n",
        "model.compile(optimizer=optimizer,loss=tf.keras.losses.binary_crossentropy,metrics='accuracy')\n",
        "\n",
        "model.fit(x=train_images,y= train_images_as_output ,epochs=100, shuffle=True,batch_size=256)\n",
        "\n",
        "\n"
      ]
    },
    {
      "cell_type": "code",
      "execution_count": 16,
      "metadata": {
        "id": "766XB34GEALd",
        "vscode": {
          "languageId": "python"
        }
      },
      "outputs": [],
      "source": [
        "def showimages(test_images,output_images,num_images):\n",
        "  for idx in range(num_images):\n",
        "    ax = plt.subplot(2, num_images, idx + 1)\n",
        "    plt.imshow(test_images[idx].reshape(28,28))\n",
        "    plt.gray()\n",
        "    ax.get_xaxis().set_visible(False)\n",
        "    ax.get_yaxis().set_visible(False)\n",
        "\n",
        "    # display reconstruction\n",
        "\n",
        "    ax = plt.subplot(2, num_images , idx + 1 + num_images)\n",
        "    plt.gray()\n",
        "    plt.imshow(output_images[idx].reshape(28,28))\n",
        "    ax.get_yaxis().set_visible(False)\n",
        "    ax.get_xaxis().set_visible(False)\n",
        "\n",
        "    "
      ]
    },
    {
      "cell_type": "code",
      "execution_count": 17,
      "metadata": {
        "colab": {
          "base_uri": "https://localhost:8080/",
          "height": 248
        },
        "id": "0kbCJztxFrZ-",
        "outputId": "541a96c7-1753-4e5d-eccc-743488956431",
        "vscode": {
          "languageId": "python"
        }
      },
      "outputs": [
        {
          "data": {
            "image/png": "[encoded data removed]",
            "text/plain": [
              "<Figure size 1440x288 with 20 Axes>"
            ]
          },
          "metadata": {
            "needs_background": "light",
            "tags": []
          },
          "output_type": "display_data"
        }
      ],
      "source": [
        "output_images = model.predict(test_images)\n",
        "plt.figure(figsize=(20, 4))\n",
        "showimages(test_images_as_output,output_images,10)\n",
        "plt.show()"
      ]
    },
    {
      "cell_type": "code",
      "execution_count": 18,
      "metadata": {
        "id": "HZZV7kn0GO8u",
        "vscode": {
          "languageId": "python"
        }
      },
      "outputs": [],
      "source": [
        "fashion_mnist = tf.keras.datasets.fashion_mnist\n",
        "(train_images, train_labels), (test_images, test_labels) = fashion_mnist.load_data()\n",
        "\n",
        "train_images = train_images.astype('float32') / 255\n",
        "test_images = test_images.astype('float32') / 255\n",
        "\n",
        "train_images = np.reshape(train_images, (len(train_images), 28, 28, 1))\n",
        "test_images = np.reshape(test_images, (len(test_images), 28, 28, 1))"
      ]
    },
    {
      "cell_type": "code",
      "execution_count": 19,
      "metadata": {
        "colab": {
          "base_uri": "https://localhost:8080/"
        },
        "id": "0XnWV2_sGfTs",
        "outputId": "f1e2e455-0618-4d5f-e3d9-9e1fa5743c49",
        "vscode": {
          "languageId": "python"
        }
      },
      "outputs": [
        {
          "name": "stdout",
          "output_type": "stream",
          "text": [
            "Model: \"sequential_5\"\n",
            "_________________________________________________________________\n",
            "Layer (type)                 Output Shape              Param #   \n",
            "=================================================================\n",
            "conv2d (Conv2D)              (None, 28, 28, 32)        320       \n",
            "_________________________________________________________________\n",
            "max_pooling2d (MaxPooling2D) (None, 14, 14, 32)        0         \n",
            "_________________________________________________________________\n",
            "conv2d_1 (Conv2D)            (None, 14, 14, 8)         2312      \n",
            "_________________________________________________________________\n",
            "max_pooling2d_1 (MaxPooling2 (None, 7, 7, 8)           0         \n",
            "_________________________________________________________________\n",
            "conv2d_2 (Conv2D)            (None, 7, 7, 8)           584       \n",
            "_________________________________________________________________\n",
            "max_pooling2d_2 (MaxPooling2 (None, 4, 4, 8)           0         \n",
            "_________________________________________________________________\n",
            "conv2d_3 (Conv2D)            (None, 4, 4, 8)           584       \n",
            "_________________________________________________________________\n",
            "up_sampling2d (UpSampling2D) (None, 8, 8, 8)           0         \n",
            "_________________________________________________________________\n",
            "conv2d_4 (Conv2D)            (None, 8, 8, 8)           584       \n",
            "_________________________________________________________________\n",
            "up_sampling2d_1 (UpSampling2 (None, 16, 16, 8)         0         \n",
            "_________________________________________________________________\n",
            "conv2d_5 (Conv2D)            (None, 14, 14, 32)        2336      \n",
            "_________________________________________________________________\n",
            "up_sampling2d_2 (UpSampling2 (None, 28, 28, 32)        0         \n",
            "_________________________________________________________________\n",
            "conv2d_6 (Conv2D)            (None, 28, 28, 1)         289       \n",
            "=================================================================\n",
            "Total params: 7,009\n",
            "Trainable params: 7,009\n",
            "Non-trainable params: 0\n",
            "_________________________________________________________________\n",
            "Epoch 1/100\n",
            "235/235 [==============================] - 8s 9ms/step - loss: 0.4562\n",
            "Epoch 2/100\n",
            "235/235 [==============================] - 2s 8ms/step - loss: 0.3122\n",
            "Epoch 3/100\n",
            "235/235 [==============================] - 2s 8ms/step - loss: 0.3029\n",
            "Epoch 4/100\n",
            "235/235 [==============================] - 2s 8ms/step - loss: 0.2986\n",
            "Epoch 5/100\n",
            "235/235 [==============================] - 2s 8ms/step - loss: 0.2957\n",
            "Epoch 6/100\n",
            "235/235 [==============================] - 2s 8ms/step - loss: 0.2933\n",
            "Epoch 7/100\n",
            "235/235 [==============================] - 2s 8ms/step - loss: 0.2918\n",
            "Epoch 8/100\n",
            "235/235 [==============================] - 2s 8ms/step - loss: 0.2906\n",
            "Epoch 9/100\n",
            "235/235 [==============================] - 2s 8ms/step - loss: 0.2891\n",
            "Epoch 10/100\n",
            "235/235 [==============================] - 2s 8ms/step - loss: 0.2892\n",
            "Epoch 11/100\n",
            "235/235 [==============================] - 2s 8ms/step - loss: 0.2874\n",
            "Epoch 12/100\n",
            "235/235 [==============================] - 2s 8ms/step - loss: 0.2874\n",
            "Epoch 13/100\n",
            "235/235 [==============================] - 2s 8ms/step - loss: 0.2864\n",
            "Epoch 14/100\n",
            "235/235 [==============================] - 2s 8ms/step - loss: 0.2863\n",
            "Epoch 15/100\n",
            "235/235 [==============================] - 2s 9ms/step - loss: 0.2861\n",
            "Epoch 16/100\n",
            "235/235 [==============================] - 2s 8ms/step - loss: 0.2855\n",
            "Epoch 17/100\n",
            "235/235 [==============================] - 2s 8ms/step - loss: 0.2853\n",
            "Epoch 18/100\n",
            "235/235 [==============================] - 2s 9ms/step - loss: 0.2848\n",
            "Epoch 19/100\n",
            "235/235 [==============================] - 2s 8ms/step - loss: 0.2845\n",
            "Epoch 20/100\n",
            "235/235 [==============================] - 2s 8ms/step - loss: 0.2835\n",
            "Epoch 21/100\n",
            "235/235 [==============================] - 2s 8ms/step - loss: 0.2838\n",
            "Epoch 22/100\n",
            "235/235 [==============================] - 2s 8ms/step - loss: 0.2837\n",
            "Epoch 23/100\n",
            "235/235 [==============================] - 2s 8ms/step - loss: 0.2832\n",
            "Epoch 24/100\n",
            "235/235 [==============================] - 2s 8ms/step - loss: 0.2824\n",
            "Epoch 25/100\n",
            "235/235 [==============================] - 2s 8ms/step - loss: 0.2829\n",
            "Epoch 26/100\n",
            "235/235 [==============================] - 2s 8ms/step - loss: 0.2828\n",
            "Epoch 27/100\n",
            "235/235 [==============================] - 2s 9ms/step - loss: 0.2820\n",
            "Epoch 28/100\n",
            "235/235 [==============================] - 2s 9ms/step - loss: 0.2816\n",
            "Epoch 29/100\n",
            "235/235 [==============================] - 2s 9ms/step - loss: 0.2809\n",
            "Epoch 30/100\n",
            "235/235 [==============================] - 2s 9ms/step - loss: 0.2815\n",
            "Epoch 31/100\n",
            "235/235 [==============================] - 2s 9ms/step - loss: 0.2811\n",
            "Epoch 32/100\n",
            "235/235 [==============================] - 2s 8ms/step - loss: 0.2806\n",
            "Epoch 33/100\n",
            "235/235 [==============================] - 2s 8ms/step - loss: 0.2801\n",
            "Epoch 34/100\n",
            "235/235 [==============================] - 2s 9ms/step - loss: 0.2799\n",
            "Epoch 35/100\n",
            "235/235 [==============================] - 2s 8ms/step - loss: 0.2802\n",
            "Epoch 36/100\n",
            "235/235 [==============================] - 2s 8ms/step - loss: 0.2803\n",
            "Epoch 37/100\n",
            "235/235 [==============================] - 2s 8ms/step - loss: 0.2802\n",
            "Epoch 38/100\n",
            "235/235 [==============================] - 2s 8ms/step - loss: 0.2796\n",
            "Epoch 39/100\n",
            "235/235 [==============================] - 2s 8ms/step - loss: 0.2801\n",
            "Epoch 40/100\n",
            "235/235 [==============================] - 2s 8ms/step - loss: 0.2790\n",
            "Epoch 41/100\n",
            "235/235 [==============================] - 2s 8ms/step - loss: 0.2786\n",
            "Epoch 42/100\n",
            "235/235 [==============================] - 2s 8ms/step - loss: 0.2797\n",
            "Epoch 43/100\n",
            "235/235 [==============================] - 2s 8ms/step - loss: 0.2789\n",
            "Epoch 44/100\n",
            "235/235 [==============================] - 2s 8ms/step - loss: 0.2789\n",
            "Epoch 45/100\n",
            "235/235 [==============================] - 2s 8ms/step - loss: 0.2797\n",
            "Epoch 46/100\n",
            "235/235 [==============================] - 2s 8ms/step - loss: 0.2785\n",
            "Epoch 47/100\n",
            "235/235 [==============================] - 2s 8ms/step - loss: 0.2783\n",
            "Epoch 48/100\n",
            "235/235 [==============================] - 2s 8ms/step - loss: 0.2780\n",
            "Epoch 49/100\n",
            "235/235 [==============================] - 2s 8ms/step - loss: 0.2791\n",
            "Epoch 50/100\n",
            "235/235 [==============================] - 2s 8ms/step - loss: 0.2784\n",
            "Epoch 51/100\n",
            "235/235 [==============================] - 2s 8ms/step - loss: 0.2790\n",
            "Epoch 52/100\n",
            "235/235 [==============================] - 2s 8ms/step - loss: 0.2787\n",
            "Epoch 53/100\n",
            "235/235 [==============================] - 2s 8ms/step - loss: 0.2780\n",
            "Epoch 54/100\n",
            "235/235 [==============================] - 2s 8ms/step - loss: 0.2776\n",
            "Epoch 55/100\n",
            "235/235 [==============================] - 2s 8ms/step - loss: 0.2777\n",
            "Epoch 56/100\n",
            "235/235 [==============================] - 2s 8ms/step - loss: 0.2776\n",
            "Epoch 57/100\n",
            "235/235 [==============================] - 2s 8ms/step - loss: 0.2782\n",
            "Epoch 58/100\n",
            "235/235 [==============================] - 2s 8ms/step - loss: 0.2776\n",
            "Epoch 59/100\n",
            "235/235 [==============================] - 2s 8ms/step - loss: 0.2775\n",
            "Epoch 60/100\n",
            "235/235 [==============================] - 2s 8ms/step - loss: 0.2776\n",
            "Epoch 61/100\n",
            "235/235 [==============================] - 2s 8ms/step - loss: 0.2774\n",
            "Epoch 62/100\n",
            "235/235 [==============================] - 2s 8ms/step - loss: 0.2775\n",
            "Epoch 63/100\n",
            "235/235 [==============================] - 2s 8ms/step - loss: 0.2778\n",
            "Epoch 64/100\n",
            "235/235 [==============================] - 2s 8ms/step - loss: 0.2771\n",
            "Epoch 65/100\n",
            "235/235 [==============================] - 2s 8ms/step - loss: 0.2773\n",
            "Epoch 66/100\n",
            "235/235 [==============================] - 2s 8ms/step - loss: 0.2770\n",
            "Epoch 67/100\n",
            "235/235 [==============================] - 2s 8ms/step - loss: 0.2769\n",
            "Epoch 68/100\n",
            "235/235 [==============================] - 2s 8ms/step - loss: 0.2769\n",
            "Epoch 69/100\n",
            "235/235 [==============================] - 2s 8ms/step - loss: 0.2768\n",
            "Epoch 70/100\n",
            "235/235 [==============================] - 2s 8ms/step - loss: 0.2763\n",
            "Epoch 71/100\n",
            "235/235 [==============================] - 2s 8ms/step - loss: 0.2769\n",
            "Epoch 72/100\n",
            "235/235 [==============================] - 2s 8ms/step - loss: 0.2769\n",
            "Epoch 73/100\n",
            "235/235 [==============================] - 2s 8ms/step - loss: 0.2765\n",
            "Epoch 74/100\n",
            "235/235 [==============================] - 2s 8ms/step - loss: 0.2762\n",
            "Epoch 75/100\n",
            "235/235 [==============================] - 2s 8ms/step - loss: 0.2769\n",
            "Epoch 76/100\n",
            "235/235 [==============================] - 2s 8ms/step - loss: 0.2764\n",
            "Epoch 77/100\n",
            "235/235 [==============================] - 2s 8ms/step - loss: 0.2763\n",
            "Epoch 78/100\n",
            "235/235 [==============================] - 2s 8ms/step - loss: 0.2760\n",
            "Epoch 79/100\n",
            "235/235 [==============================] - 2s 8ms/step - loss: 0.2762\n",
            "Epoch 80/100\n",
            "235/235 [==============================] - 2s 8ms/step - loss: 0.2764\n",
            "Epoch 81/100\n",
            "235/235 [==============================] - 2s 8ms/step - loss: 0.2757\n",
            "Epoch 82/100\n",
            "235/235 [==============================] - 2s 9ms/step - loss: 0.2757\n",
            "Epoch 83/100\n",
            "235/235 [==============================] - 2s 8ms/step - loss: 0.2760\n",
            "Epoch 84/100\n",
            "235/235 [==============================] - 2s 8ms/step - loss: 0.2761\n",
            "Epoch 85/100\n",
            "235/235 [==============================] - 2s 8ms/step - loss: 0.2753\n",
            "Epoch 86/100\n",
            "235/235 [==============================] - 2s 8ms/step - loss: 0.2764\n",
            "Epoch 87/100\n",
            "235/235 [==============================] - 2s 8ms/step - loss: 0.2754\n",
            "Epoch 88/100\n",
            "235/235 [==============================] - 2s 8ms/step - loss: 0.2761\n",
            "Epoch 89/100\n",
            "235/235 [==============================] - 2s 8ms/step - loss: 0.2761\n",
            "Epoch 90/100\n",
            "235/235 [==============================] - 2s 9ms/step - loss: 0.2759\n",
            "Epoch 91/100\n",
            "235/235 [==============================] - 2s 8ms/step - loss: 0.2759\n",
            "Epoch 92/100\n",
            "235/235 [==============================] - 2s 8ms/step - loss: 0.2753\n",
            "Epoch 93/100\n",
            "235/235 [==============================] - 2s 8ms/step - loss: 0.2759\n",
            "Epoch 94/100\n",
            "235/235 [==============================] - 2s 8ms/step - loss: 0.2755\n",
            "Epoch 95/100\n",
            "235/235 [==============================] - 2s 8ms/step - loss: 0.2754\n",
            "Epoch 96/100\n",
            "235/235 [==============================] - 2s 8ms/step - loss: 0.2754\n",
            "Epoch 97/100\n",
            "235/235 [==============================] - 2s 8ms/step - loss: 0.2750\n",
            "Epoch 98/100\n",
            "235/235 [==============================] - 2s 8ms/step - loss: 0.2754\n",
            "Epoch 99/100\n",
            "235/235 [==============================] - 2s 8ms/step - loss: 0.2751\n",
            "Epoch 100/100\n",
            "235/235 [==============================] - 2s 8ms/step - loss: 0.2752\n"
          ]
        },
        {
          "data": {
            "text/plain": [
              "<tensorflow.python.keras.callbacks.History at 0x7f9719cae438>"
            ]
          },
          "execution_count": 19,
          "metadata": {
            "tags": []
          },
          "output_type": "execute_result"
        }
      ],
      "source": [
        "model = tf.keras.models.Sequential()\n",
        "\n",
        "model.add(tf.keras.layers.Conv2D(32, (3, 3), activation='relu', padding='same', input_shape=(28, 28, 1)))\n",
        "model.add(tf.keras.layers.MaxPooling2D((2, 2), padding='same'))\n",
        "model.add(tf.keras.layers.Conv2D(8, (3, 3), activation='relu', padding='same'))\n",
        "model.add(tf.keras.layers.MaxPooling2D((2, 2), padding='same'))\n",
        "model.add(tf.keras.layers.Conv2D(8, (3, 3), activation='relu', padding='same'))\n",
        "model.add(tf.keras.layers.MaxPooling2D((2, 2), padding='same'))\n",
        "\n",
        "\n",
        "model.add(tf.keras.layers.Conv2D(8, (3, 3), activation='relu', padding='same'))\n",
        "model.add(tf.keras.layers.UpSampling2D((2, 2)))\n",
        "model.add(tf.keras.layers.Conv2D(8, (3, 3), activation='relu', padding='same'))\n",
        "model.add(tf.keras.layers.UpSampling2D((2, 2)))\n",
        "model.add(tf.keras.layers.Conv2D(32, (3, 3), activation='relu'))\n",
        "model.add(tf.keras.layers.UpSampling2D((2, 2)))\n",
        "model.add(tf.keras.layers.Conv2D(1, (3, 3), activation='sigmoid', padding='same'))\n",
        "\n",
        "model.compile(optimizer='adam', loss='binary_crossentropy')\n",
        "model.summary()\n",
        "model.fit(x=train_images,y= train_images ,epochs=100, shuffle=True,batch_size=256)"
      ]
    },
    {
      "cell_type": "code",
      "execution_count": 20,
      "metadata": {
        "colab": {
          "base_uri": "https://localhost:8080/",
          "height": 248
        },
        "id": "OcGuqfijGxnp",
        "outputId": "555fecc0-4adb-4106-b7fb-b24a3d776d3b",
        "vscode": {
          "languageId": "python"
        }
      },
      "outputs": [
        {
          "data": {
            "image/png": "[encoded data removed]",
            "text/plain": [
              "<Figure size 1440x288 with 20 Axes>"
            ]
          },
          "metadata": {
            "needs_background": "light",
            "tags": []
          },
          "output_type": "display_data"
        }
      ],
      "source": [
        "output_images = model.predict(test_images)\n",
        "plt.figure(figsize=(20, 4))\n",
        "showimages(test_images,output_images,10)\n",
        "plt.show()"
      ]
    },
    {
      "cell_type": "code",
      "execution_count": 21,
      "metadata": {
        "colab": {
          "base_uri": "https://localhost:8080/"
        },
        "id": "WofcWlRoG3kN",
        "outputId": "7227e364-12e3-4445-d833-490264fa65e9",
        "vscode": {
          "languageId": "python"
        }
      },
      "outputs": [
        {
          "name": "stdout",
          "output_type": "stream",
          "text": [
            "Model: \"model\"\n",
            "_________________________________________________________________\n",
            "Layer (type)                 Output Shape              Param #   \n",
            "=================================================================\n",
            "conv2d_input (InputLayer)    [(None, 28, 28, 1)]       0         \n",
            "_________________________________________________________________\n",
            "conv2d (Conv2D)              (None, 28, 28, 32)        320       \n",
            "_________________________________________________________________\n",
            "max_pooling2d (MaxPooling2D) (None, 14, 14, 32)        0         \n",
            "_________________________________________________________________\n",
            "conv2d_1 (Conv2D)            (None, 14, 14, 8)         2312      \n",
            "_________________________________________________________________\n",
            "max_pooling2d_1 (MaxPooling2 (None, 7, 7, 8)           0         \n",
            "_________________________________________________________________\n",
            "conv2d_2 (Conv2D)            (None, 7, 7, 8)           584       \n",
            "_________________________________________________________________\n",
            "max_pooling2d_2 (MaxPooling2 (None, 4, 4, 8)           0         \n",
            "_________________________________________________________________\n",
            "flatten_5 (Flatten)          (None, 128)               0         \n",
            "_________________________________________________________________\n",
            "dense_30 (Dense)             (None, 128)               16512     \n",
            "_________________________________________________________________\n",
            "dense_31 (Dense)             (None, 64)                8256      \n",
            "_________________________________________________________________\n",
            "dense_32 (Dense)             (None, 10)                650       \n",
            "=================================================================\n",
            "Total params: 28,634\n",
            "Trainable params: 25,418\n",
            "Non-trainable params: 3,216\n",
            "_________________________________________________________________\n"
          ]
        }
      ],
      "source": [
        "def unsupervisedpretraining(model,encoder_layer,freez_encoder = True,num_classes=10):\n",
        "  if freez_encoder:\n",
        "    for layer in model.layers[:encoder_layer + 1]:\n",
        "      layer.trainable = False\n",
        "\n",
        "  encoder = model.layers[encoder_layer].output\n",
        "  flatten_e = tf.keras.layers.Flatten()(encoder)\n",
        "\n",
        "  dense_layer1 = tf.keras.layers.Dense(128, activation='relu')(flatten_e)\n",
        "  dense_layer2 = tf.keras.layers.Dense(64, activation='relu')(dense_layer1)\n",
        "\n",
        "  output = tf.keras.layers.Dense(10, activation='softmax')(dense_layer2)\n",
        "  model = tf.keras.models.Model(inputs=model.inputs, outputs=output)\n",
        "\n",
        "  return model\n",
        "\n",
        "\n",
        "unsp_model = unsupervisedpretraining(model,5)\n",
        "unsp_model.summary()\n"
      ]
    },
    {
      "cell_type": "code",
      "execution_count": 33,
      "metadata": {
        "colab": {
          "base_uri": "https://localhost:8080/"
        },
        "id": "nS1QnY__Hbyl",
        "outputId": "1b936a47-20da-4880-c9bd-a541fd2a13b4",
        "vscode": {
          "languageId": "python"
        }
      },
      "outputs": [
        {
          "name": "stdout",
          "output_type": "stream",
          "text": [
            "Epoch 1/50\n",
            "47/47 [==============================] - 1s 3ms/step - loss: 0.0823 - accuracy: 0.8370\n",
            "Epoch 2/50\n",
            "47/47 [==============================] - 0s 3ms/step - loss: 0.0709 - accuracy: 0.8630\n",
            "Epoch 3/50\n",
            "47/47 [==============================] - 0s 3ms/step - loss: 0.0769 - accuracy: 0.8426\n",
            "Epoch 4/50\n",
            "47/47 [==============================] - 0s 3ms/step - loss: 0.0717 - accuracy: 0.8538\n",
            "Epoch 5/50\n",
            "47/47 [==============================] - 0s 3ms/step - loss: 0.0738 - accuracy: 0.8524\n",
            "Epoch 6/50\n",
            "47/47 [==============================] - 0s 3ms/step - loss: 0.0731 - accuracy: 0.8460\n",
            "Epoch 7/50\n",
            "47/47 [==============================] - 0s 3ms/step - loss: 0.0693 - accuracy: 0.8652\n",
            "Epoch 8/50\n",
            "47/47 [==============================] - 0s 3ms/step - loss: 0.0698 - accuracy: 0.8569\n",
            "Epoch 9/50\n",
            "47/47 [==============================] - 0s 3ms/step - loss: 0.0679 - accuracy: 0.8678\n",
            "Epoch 10/50\n",
            "47/47 [==============================] - 0s 3ms/step - loss: 0.0683 - accuracy: 0.8604\n",
            "Epoch 11/50\n",
            "47/47 [==============================] - 0s 3ms/step - loss: 0.0694 - accuracy: 0.8649\n",
            "Epoch 12/50\n",
            "47/47 [==============================] - 0s 3ms/step - loss: 0.0699 - accuracy: 0.8642\n",
            "Epoch 13/50\n",
            "47/47 [==============================] - 0s 3ms/step - loss: 0.0692 - accuracy: 0.8647\n",
            "Epoch 14/50\n",
            "47/47 [==============================] - 0s 3ms/step - loss: 0.0688 - accuracy: 0.8606\n",
            "Epoch 15/50\n",
            "47/47 [==============================] - 0s 4ms/step - loss: 0.0645 - accuracy: 0.8667\n",
            "Epoch 16/50\n",
            "47/47 [==============================] - 0s 3ms/step - loss: 0.0671 - accuracy: 0.8645\n",
            "Epoch 17/50\n",
            "47/47 [==============================] - 0s 3ms/step - loss: 0.0696 - accuracy: 0.8567\n",
            "Epoch 18/50\n",
            "47/47 [==============================] - 0s 3ms/step - loss: 0.0676 - accuracy: 0.8658\n",
            "Epoch 19/50\n",
            "47/47 [==============================] - 0s 3ms/step - loss: 0.0666 - accuracy: 0.8700\n",
            "Epoch 20/50\n",
            "47/47 [==============================] - 0s 3ms/step - loss: 0.0671 - accuracy: 0.8662\n",
            "Epoch 21/50\n",
            "47/47 [==============================] - 0s 3ms/step - loss: 0.0620 - accuracy: 0.8803\n",
            "Epoch 22/50\n",
            "47/47 [==============================] - 0s 3ms/step - loss: 0.0655 - accuracy: 0.8711\n",
            "Epoch 23/50\n",
            "47/47 [==============================] - 0s 3ms/step - loss: 0.0666 - accuracy: 0.8681\n",
            "Epoch 24/50\n",
            "47/47 [==============================] - 0s 3ms/step - loss: 0.0657 - accuracy: 0.8641\n",
            "Epoch 25/50\n",
            "47/47 [==============================] - 0s 3ms/step - loss: 0.0658 - accuracy: 0.8647\n",
            "Epoch 26/50\n",
            "47/47 [==============================] - 0s 3ms/step - loss: 0.0667 - accuracy: 0.8683\n",
            "Epoch 27/50\n",
            "47/47 [==============================] - 0s 3ms/step - loss: 0.0636 - accuracy: 0.8733\n",
            "Epoch 28/50\n",
            "47/47 [==============================] - 0s 3ms/step - loss: 0.0643 - accuracy: 0.8650\n",
            "Epoch 29/50\n",
            "47/47 [==============================] - 0s 3ms/step - loss: 0.0640 - accuracy: 0.8709\n",
            "Epoch 30/50\n",
            "47/47 [==============================] - 0s 3ms/step - loss: 0.0637 - accuracy: 0.8781\n",
            "Epoch 31/50\n",
            "47/47 [==============================] - 0s 3ms/step - loss: 0.0606 - accuracy: 0.8796\n",
            "Epoch 32/50\n",
            "47/47 [==============================] - 0s 3ms/step - loss: 0.0611 - accuracy: 0.8774\n",
            "Epoch 33/50\n",
            "47/47 [==============================] - 0s 3ms/step - loss: 0.0626 - accuracy: 0.8773\n",
            "Epoch 34/50\n",
            "47/47 [==============================] - 0s 3ms/step - loss: 0.0624 - accuracy: 0.8732\n",
            "Epoch 35/50\n",
            "47/47 [==============================] - 0s 3ms/step - loss: 0.0616 - accuracy: 0.8741\n",
            "Epoch 36/50\n",
            "47/47 [==============================] - 0s 3ms/step - loss: 0.0632 - accuracy: 0.8695\n",
            "Epoch 37/50\n",
            "47/47 [==============================] - 0s 3ms/step - loss: 0.0643 - accuracy: 0.8721\n",
            "Epoch 38/50\n",
            "47/47 [==============================] - 0s 3ms/step - loss: 0.0609 - accuracy: 0.8699\n",
            "Epoch 39/50\n",
            "47/47 [==============================] - 0s 3ms/step - loss: 0.0621 - accuracy: 0.8707\n",
            "Epoch 40/50\n",
            "47/47 [==============================] - 0s 3ms/step - loss: 0.0629 - accuracy: 0.8708\n",
            "Epoch 41/50\n",
            "47/47 [==============================] - 0s 3ms/step - loss: 0.0649 - accuracy: 0.8655\n",
            "Epoch 42/50\n",
            "47/47 [==============================] - 0s 3ms/step - loss: 0.0611 - accuracy: 0.8725\n",
            "Epoch 43/50\n",
            "47/47 [==============================] - 0s 3ms/step - loss: 0.0598 - accuracy: 0.8793\n",
            "Epoch 44/50\n",
            "47/47 [==============================] - 0s 3ms/step - loss: 0.0580 - accuracy: 0.8820\n",
            "Epoch 45/50\n",
            "47/47 [==============================] - 0s 3ms/step - loss: 0.0617 - accuracy: 0.8750\n",
            "Epoch 46/50\n",
            "47/47 [==============================] - 0s 3ms/step - loss: 0.0594 - accuracy: 0.8745\n",
            "Epoch 47/50\n",
            "47/47 [==============================] - 0s 3ms/step - loss: 0.0594 - accuracy: 0.8778\n",
            "Epoch 48/50\n",
            "47/47 [==============================] - 0s 3ms/step - loss: 0.0606 - accuracy: 0.8806\n",
            "Epoch 49/50\n",
            "47/47 [==============================] - 0s 3ms/step - loss: 0.0599 - accuracy: 0.8807\n",
            "Epoch 50/50\n",
            "47/47 [==============================] - 0s 3ms/step - loss: 0.0623 - accuracy: 0.8714\n"
          ]
        },
        {
          "data": {
            "text/plain": [
              "<tensorflow.python.keras.callbacks.History at 0x7f9719d63668>"
            ]
          },
          "execution_count": 33,
          "metadata": {
            "tags": []
          },
          "output_type": "execute_result"
        }
      ],
      "source": [
        "fashion_mnist = tf.keras.datasets.fashion_mnist\n",
        "\n",
        "(train_images, train_labels), (test_images, test_labels) = fashion_mnist.load_data()\n",
        "\n",
        "train_images = train_images.astype('float32') / 255\n",
        "test_images = test_images.astype('float32') / 255\n",
        "\n",
        "from sklearn.model_selection import train_test_split\n",
        "X, X_sample, X_labels, X_sample_labels = train_test_split(train_images,train_labels,stratify=train_labels,test_size=0.1)\n",
        "unsp_model.compile(optimizer='Adam', loss='binary_crossentropy',metrics='accuracy')\n",
        "\n",
        "from keras.utils import np_utils\n",
        "num_classes = 10\n",
        "X_sample_labels = np_utils.to_categorical(X_sample_labels, num_classes)\n",
        "unsp_model.fit(X_sample, X_sample_labels, epochs=50, batch_size=128, shuffle=True)"
      ]
    },
    {
      "cell_type": "code",
      "execution_count": 34,
      "metadata": {
        "colab": {
          "base_uri": "https://localhost:8080/"
        },
        "id": "nJRE9KLUSI56",
        "outputId": "b8b883b8-1ef5-49c1-8a95-d74e65b4058b",
        "vscode": {
          "languageId": "python"
        }
      },
      "outputs": [
        {
          "name": "stdout",
          "output_type": "stream",
          "text": [
            "313/313 - 1s - loss: 0.0723 - accuracy: 0.8523\n"
          ]
        },
        {
          "data": {
            "text/plain": [
              "[0.07229739427566528, 0.8522999882698059]"
            ]
          },
          "execution_count": 34,
          "metadata": {
            "tags": []
          },
          "output_type": "execute_result"
        }
      ],
      "source": [
        "test_labels_c = np_utils.to_categorical(test_labels, num_classes)\n",
        "unsp_model.evaluate(test_images, test_labels_c, verbose=2)"
      ]
    },
    {
      "cell_type": "code",
      "execution_count": 29,
      "metadata": {
        "colab": {
          "base_uri": "https://localhost:8080/"
        },
        "id": "5gBXmvfqQr-k",
        "outputId": "bdedd27d-ab37-4f4e-8eeb-93a94230d969",
        "vscode": {
          "languageId": "python"
        }
      },
      "outputs": [
        {
          "name": "stdout",
          "output_type": "stream",
          "text": [
            "Epoch 1/50\n",
            "47/47 [==============================] - 1s 3ms/step - loss: 0.3703 - accuracy: 0.2256\n",
            "Epoch 2/50\n",
            "47/47 [==============================] - 0s 3ms/step - loss: 0.2027 - accuracy: 0.6196\n",
            "Epoch 3/50\n",
            "47/47 [==============================] - 0s 3ms/step - loss: 0.1647 - accuracy: 0.6762\n",
            "Epoch 4/50\n",
            "47/47 [==============================] - 0s 3ms/step - loss: 0.1457 - accuracy: 0.7080\n",
            "Epoch 5/50\n",
            "47/47 [==============================] - 0s 3ms/step - loss: 0.1360 - accuracy: 0.7159\n",
            "Epoch 6/50\n",
            "47/47 [==============================] - 0s 3ms/step - loss: 0.1250 - accuracy: 0.7456\n",
            "Epoch 7/50\n",
            "47/47 [==============================] - 0s 3ms/step - loss: 0.1213 - accuracy: 0.7520\n",
            "Epoch 8/50\n",
            "47/47 [==============================] - 0s 3ms/step - loss: 0.1157 - accuracy: 0.7604\n",
            "Epoch 9/50\n",
            "47/47 [==============================] - 0s 3ms/step - loss: 0.1106 - accuracy: 0.7770\n",
            "Epoch 10/50\n",
            "47/47 [==============================] - 0s 3ms/step - loss: 0.1091 - accuracy: 0.7764\n",
            "Epoch 11/50\n",
            "47/47 [==============================] - 0s 3ms/step - loss: 0.1074 - accuracy: 0.7854\n",
            "Epoch 12/50\n",
            "47/47 [==============================] - 0s 3ms/step - loss: 0.1058 - accuracy: 0.7852\n",
            "Epoch 13/50\n",
            "47/47 [==============================] - 0s 4ms/step - loss: 0.1010 - accuracy: 0.7974\n",
            "Epoch 14/50\n",
            "47/47 [==============================] - 0s 4ms/step - loss: 0.0994 - accuracy: 0.7959\n",
            "Epoch 15/50\n",
            "47/47 [==============================] - 0s 3ms/step - loss: 0.0989 - accuracy: 0.7907\n",
            "Epoch 16/50\n",
            "47/47 [==============================] - 0s 3ms/step - loss: 0.0947 - accuracy: 0.8050\n",
            "Epoch 17/50\n",
            "47/47 [==============================] - 0s 3ms/step - loss: 0.0960 - accuracy: 0.8036\n",
            "Epoch 18/50\n",
            "47/47 [==============================] - 0s 4ms/step - loss: 0.0967 - accuracy: 0.7975\n",
            "Epoch 19/50\n",
            "47/47 [==============================] - 0s 3ms/step - loss: 0.0929 - accuracy: 0.8068\n",
            "Epoch 20/50\n",
            "47/47 [==============================] - 0s 3ms/step - loss: 0.0925 - accuracy: 0.8033\n",
            "Epoch 21/50\n",
            "47/47 [==============================] - 0s 4ms/step - loss: 0.0913 - accuracy: 0.8178\n",
            "Epoch 22/50\n",
            "47/47 [==============================] - 0s 3ms/step - loss: 0.0896 - accuracy: 0.8159\n",
            "Epoch 23/50\n",
            "47/47 [==============================] - 0s 3ms/step - loss: 0.0918 - accuracy: 0.8048\n",
            "Epoch 24/50\n",
            "47/47 [==============================] - 0s 3ms/step - loss: 0.0867 - accuracy: 0.8233\n",
            "Epoch 25/50\n",
            "47/47 [==============================] - 0s 4ms/step - loss: 0.0884 - accuracy: 0.8195\n",
            "Epoch 26/50\n",
            "47/47 [==============================] - 0s 3ms/step - loss: 0.0864 - accuracy: 0.8224\n",
            "Epoch 27/50\n",
            "47/47 [==============================] - 0s 3ms/step - loss: 0.0866 - accuracy: 0.8253\n",
            "Epoch 28/50\n",
            "47/47 [==============================] - 0s 3ms/step - loss: 0.0851 - accuracy: 0.8273\n",
            "Epoch 29/50\n",
            "47/47 [==============================] - 0s 3ms/step - loss: 0.0861 - accuracy: 0.8291\n",
            "Epoch 30/50\n",
            "47/47 [==============================] - 0s 4ms/step - loss: 0.0846 - accuracy: 0.8273\n",
            "Epoch 31/50\n",
            "47/47 [==============================] - 0s 3ms/step - loss: 0.0856 - accuracy: 0.8272\n",
            "Epoch 32/50\n",
            "47/47 [==============================] - 0s 3ms/step - loss: 0.0801 - accuracy: 0.8392\n",
            "Epoch 33/50\n",
            "47/47 [==============================] - 0s 3ms/step - loss: 0.0841 - accuracy: 0.8256\n",
            "Epoch 34/50\n",
            "47/47 [==============================] - 0s 3ms/step - loss: 0.0819 - accuracy: 0.8353\n",
            "Epoch 35/50\n",
            "47/47 [==============================] - 0s 3ms/step - loss: 0.0808 - accuracy: 0.8365\n",
            "Epoch 36/50\n",
            "47/47 [==============================] - 0s 3ms/step - loss: 0.0830 - accuracy: 0.8267\n",
            "Epoch 37/50\n",
            "47/47 [==============================] - 0s 3ms/step - loss: 0.0803 - accuracy: 0.8321\n",
            "Epoch 38/50\n",
            "47/47 [==============================] - 0s 3ms/step - loss: 0.0764 - accuracy: 0.8461\n",
            "Epoch 39/50\n",
            "47/47 [==============================] - 0s 3ms/step - loss: 0.0788 - accuracy: 0.8436\n",
            "Epoch 40/50\n",
            "47/47 [==============================] - 0s 3ms/step - loss: 0.0815 - accuracy: 0.8310\n",
            "Epoch 41/50\n",
            "47/47 [==============================] - 0s 3ms/step - loss: 0.0806 - accuracy: 0.8347\n",
            "Epoch 42/50\n",
            "47/47 [==============================] - 0s 3ms/step - loss: 0.0806 - accuracy: 0.8332\n",
            "Epoch 43/50\n",
            "47/47 [==============================] - 0s 3ms/step - loss: 0.0786 - accuracy: 0.8485\n",
            "Epoch 44/50\n",
            "47/47 [==============================] - 0s 3ms/step - loss: 0.0803 - accuracy: 0.8378\n",
            "Epoch 45/50\n",
            "47/47 [==============================] - 0s 3ms/step - loss: 0.0749 - accuracy: 0.8511\n",
            "Epoch 46/50\n",
            "47/47 [==============================] - 0s 3ms/step - loss: 0.0772 - accuracy: 0.8488\n",
            "Epoch 47/50\n",
            "47/47 [==============================] - 0s 3ms/step - loss: 0.0775 - accuracy: 0.8474\n",
            "Epoch 48/50\n",
            "47/47 [==============================] - 0s 3ms/step - loss: 0.0766 - accuracy: 0.8429\n",
            "Epoch 49/50\n",
            "47/47 [==============================] - 0s 3ms/step - loss: 0.0793 - accuracy: 0.8375\n",
            "Epoch 50/50\n",
            "47/47 [==============================] - 0s 3ms/step - loss: 0.0760 - accuracy: 0.8425\n"
          ]
        },
        {
          "data": {
            "text/plain": [
              "<tensorflow.python.keras.callbacks.History at 0x7f96ce7ca518>"
            ]
          },
          "execution_count": 29,
          "metadata": {
            "tags": []
          },
          "output_type": "execute_result"
        }
      ],
      "source": [
        "unsp_model_2 = unsupervisedpretraining(model,5,freez_encoder=False)\n",
        "unsp_model_2.compile(optimizer='Adam', loss='binary_crossentropy',metrics='accuracy')\n",
        "unsp_model_2.fit(X_sample, X_sample_labels, epochs=50, batch_size=128, shuffle=True)"
      ]
    },
    {
      "cell_type": "code",
      "execution_count": 36,
      "metadata": {
        "colab": {
          "base_uri": "https://localhost:8080/"
        },
        "id": "VoBtrmZ0PRzz",
        "outputId": "79d5b64c-ad8c-44d4-a011-932b9e39604b",
        "vscode": {
          "languageId": "python"
        }
      },
      "outputs": [
        {
          "name": "stdout",
          "output_type": "stream",
          "text": [
            "313/313 - 1s - loss: 0.0827 - accuracy: 0.8281\n"
          ]
        },
        {
          "data": {
            "text/plain": [
              "[0.08274810761213303, 0.8281000256538391]"
            ]
          },
          "execution_count": 36,
          "metadata": {
            "tags": []
          },
          "output_type": "execute_result"
        }
      ],
      "source": [
        "#test_labels_c = np_utils.to_categorical(test_labels, num_classes)\n",
        "unsp_model_2.evaluate(test_images, test_labels_c, verbose=2)"
      ]
    }
  ],
  "metadata": {
    "accelerator": "GPU",
    "colab": {
      "collapsed_sections": [],
      "name": "Assignment_8.ipynb",
      "provenance": []
    },
    "kernelspec": {
      "display_name": "Python 3",
      "name": "python3"
    }
  },
  "nbformat": 4,
  "nbformat_minor": 0
}
