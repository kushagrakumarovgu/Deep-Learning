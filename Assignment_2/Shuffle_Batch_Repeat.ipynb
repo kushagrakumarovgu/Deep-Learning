{
  "cells": [
    {
      "cell_type": "markdown",
      "metadata": {
        "id": "383R_AtQd9lA"
      },
      "source": [
        "Assignment 2"
      ]
    },
    {
      "cell_type": "code",
      "execution_count": 2,
      "metadata": {
        "id": "ZJbH8C78VMwr",
        "vscode": {
          "languageId": "python"
        }
      },
      "outputs": [],
      "source": [
        "# note: we do not need to involve this MNISTDataset thingy anymore =)\n",
        "import tensorflow as tf\n",
        "from matplotlib import pyplot as plt\n",
        "import numpy as np"
      ]
    },
    {
      "cell_type": "code",
      "execution_count": 4,
      "metadata": {
        "colab": {
          "base_uri": "https://localhost:8080/"
        },
        "id": "9a13FR5FWqgK",
        "outputId": "12a84b1c-aec4-44a0-c858-77315227d572",
        "vscode": {
          "languageId": "python"
        }
      },
      "outputs": [
        {
          "name": "stdout",
          "output_type": "stream",
          "text": [
            "[1 0]\n",
            "[2 4]\n",
            "[3 5]\n",
            "[1 2]\n",
            "[3 4]\n",
            "[5 0]\n",
            "[1 0]\n",
            "[2 3]\n",
            "[5 4]\n",
            "\n",
            "Total number of elements: 9\n"
          ]
        }
      ],
      "source": [
        "# we can create a \"dummy\" dataset with range just to see how it works\n",
        "\n",
        "# shuffle -> batch -> repeat\n",
        "data = tf.data.Dataset.range(6)\n",
        "# for ele in data:\n",
        "#   print(ele.numpy())\n",
        "# uncomment any of the below (also multiple ones if you want) and run this cell each time. \n",
        "# make sure you understand what each transformation does!\n",
        "\n",
        "data = data.shuffle(2)  # 10 is the buffer size -- play with this!!\n",
        "data = data.batch(2)   # 2 is batch size -- change it!\n",
        "data = data.repeat(3)  # number of repetitions\n",
        "\n",
        "\n",
        "elems = 0\n",
        "for thing in data:\n",
        "    elems += 1\n",
        "    print(thing.numpy())\n",
        "print(\"\\nTotal number of elements: {}\".format(elems))"
      ]
    },
    {
      "cell_type": "code",
      "execution_count": 5,
      "metadata": {
        "colab": {
          "base_uri": "https://localhost:8080/"
        },
        "id": "HwvZdyolUzFv",
        "outputId": "b3dd9dc5-ec78-4988-a85f-dd26111d528a",
        "vscode": {
          "languageId": "python"
        }
      },
      "outputs": [
        {
          "name": "stdout",
          "output_type": "stream",
          "text": [
            "[3 1]\n",
            "[2 0]\n",
            "[4 2]\n",
            "[0 4]\n",
            "[3 5]\n",
            "[1 1]\n",
            "[2 0]\n",
            "[4 3]\n",
            "[5 5]\n",
            "\n",
            "Total number of elements: 9\n"
          ]
        }
      ],
      "source": [
        "# we can create a \"dummy\" dataset with range just to see how it works\n",
        "\n",
        "# repeat -> shuffle -> batch\n",
        "data = tf.data.Dataset.range(6)\n",
        "# for ele in data:\n",
        "#   print(ele.numpy())\n",
        "# uncomment any of the below (also multiple ones if you want) and run this cell each time. \n",
        "# make sure you understand what each transformation does!\n",
        "\n",
        "\n",
        "data = data.repeat(3)\n",
        "data = data.shuffle(4) \n",
        "data = data.batch(2)  \n",
        "\n",
        "elems = 0\n",
        "for thing in data:\n",
        "    elems += 1\n",
        "    print(thing.numpy())\n",
        "print(\"\\nTotal number of elements: {}\".format(elems))"
      ]
    },
    {
      "cell_type": "code",
      "execution_count": 3,
      "metadata": {
        "colab": {
          "base_uri": "https://localhost:8080/"
        },
        "id": "Cg3_jUIVU-bA",
        "outputId": "932362f2-ee31-45b6-ccba-051bed3a0dbc",
        "vscode": {
          "languageId": "python"
        }
      },
      "outputs": [
        {
          "name": "stdout",
          "output_type": "stream",
          "text": [
            "[2 3]\n",
            "[5 4]\n",
            "[1 0]\n",
            "[1 2]\n",
            "[4 3]\n",
            "[0 5]\n",
            "[3 2]\n",
            "[1 5]\n",
            "[0 4]\n",
            "\n",
            "Total number of elements: 9\n"
          ]
        }
      ],
      "source": [
        "# we can create a \"dummy\" dataset with range just to see how it works\n",
        "\n",
        "# shuffle -> repeat -> batch\n",
        "data = tf.data.Dataset.range(6)\n",
        "# for ele in data:\n",
        "#   print(ele.numpy())\n",
        "# uncomment any of the below (also multiple ones if you want) and run this cell each time. \n",
        "# make sure you understand what each transformation does!\n",
        "\n",
        "\n",
        "data = data.shuffle(4)  \n",
        "data = data.repeat(3)\n",
        "data = data.batch(2)  \n",
        "\n",
        "elems = 0\n",
        "for thing in data:\n",
        "    elems += 1\n",
        "    print(thing.numpy())\n",
        "print(\"\\nTotal number of elements: {}\".format(elems))"
      ]
    },
    {
      "cell_type": "markdown",
      "metadata": {
        "id": "v1vYq1dh_b_h"
      },
      "source": [
        "Since, All the batches are unique in case of shuffle->repeat->batch. So, it is the best ordering.\n"
      ]
    },
    {
      "cell_type": "code",
      "execution_count": 6,
      "metadata": {
        "colab": {
          "base_uri": "https://localhost:8080/"
        },
        "id": "x7c888eTVL_e",
        "outputId": "14d771e2-42dd-4e08-bb38-90a30c945954",
        "vscode": {
          "languageId": "python"
        }
      },
      "outputs": [
        {
          "name": "stdout",
          "output_type": "stream",
          "text": [
            "[4 5]\n",
            "[2 3]\n",
            "[0 1]\n",
            "[0 1]\n",
            "[4 5]\n",
            "[2 3]\n",
            "[2 3]\n",
            "[4 5]\n",
            "[0 1]\n",
            "\n",
            "Total number of elements: 9\n"
          ]
        }
      ],
      "source": [
        "# we can create a \"dummy\" dataset with range just to see how it works\n",
        "\n",
        "# batch -> shuffle -> repeat\n",
        "data = tf.data.Dataset.range(6)\n",
        "# for ele in data:\n",
        "#   print(ele.numpy())\n",
        "# uncomment any of the below (also multiple ones if you want) and run this cell each time. \n",
        "# make sure you understand what each transformation does!\n",
        "\n",
        "data = data.batch(2)\n",
        "data = data.shuffle(4)  \n",
        "data = data.repeat(3)\n",
        "  \n",
        "\n",
        "\n",
        "elems = 0\n",
        "for thing in data:\n",
        "    elems += 1\n",
        "    print(thing.numpy())\n",
        "print(\"\\nTotal number of elements: {}\".format(elems))"
      ]
    },
    {
      "cell_type": "code",
      "execution_count": 7,
      "metadata": {
        "colab": {
          "base_uri": "https://localhost:8080/"
        },
        "id": "eO-Ss69uVOa_",
        "outputId": "1eea4264-e8a3-4096-c44b-534363e4f58a",
        "vscode": {
          "languageId": "python"
        }
      },
      "outputs": [
        {
          "name": "stdout",
          "output_type": "stream",
          "text": [
            "[0 1]\n",
            "[2 3]\n",
            "[4 5]\n",
            "[0 1]\n",
            "[4 5]\n",
            "[0 1]\n",
            "[4 5]\n",
            "[2 3]\n",
            "[2 3]\n",
            "\n",
            "Total number of elements: 9\n"
          ]
        }
      ],
      "source": [
        "# we can create a \"dummy\" dataset with range just to see how it works\n",
        "\n",
        "# batch -> repeat -> shuffle\n",
        "data = tf.data.Dataset.range(6)\n",
        "# for ele in data:\n",
        "#   print(ele.numpy())\n",
        "# uncomment any of the below (also multiple ones if you want) and run this cell each time. \n",
        "# make sure you understand what each transformation does!\n",
        "\n",
        "data = data.batch(2)\n",
        "data = data.repeat(3)\n",
        "data = data.shuffle(4)  \n",
        "\n",
        "\n",
        "elems = 0\n",
        "for thing in data:\n",
        "    elems += 1\n",
        "    print(thing.numpy())\n",
        "print(\"\\nTotal number of elements: {}\".format(elems))"
      ]
    },
    {
      "cell_type": "code",
      "execution_count": 9,
      "metadata": {
        "colab": {
          "base_uri": "https://localhost:8080/"
        },
        "id": "P8IlSHh1VVfo",
        "outputId": "a513f19c-7f4e-4436-e4e8-814dd1fdc68d",
        "vscode": {
          "languageId": "python"
        }
      },
      "outputs": [
        {
          "name": "stdout",
          "output_type": "stream",
          "text": [
            "[0 1]\n",
            "[2 3]\n",
            "[2 3]\n",
            "[4 5]\n",
            "[0 1]\n",
            "[2 3]\n",
            "[4 5]\n",
            "[4 5]\n",
            "[0 1]\n",
            "\n",
            "Total number of elements: 9\n"
          ]
        }
      ],
      "source": [
        "# we can create a \"dummy\" dataset with range just to see how it works\n",
        "\n",
        "# repeat -> batch -> shuffle\n",
        "data = tf.data.Dataset.range(6)\n",
        "# for ele in data:\n",
        "#   print(ele.numpy())\n",
        "# uncomment any of the below (also multiple ones if you want) and run this cell each time. \n",
        "# make sure you understand what each transformation does!\n",
        "\n",
        "\n",
        "data = data.repeat(3)\n",
        "data = data.batch(2)   \n",
        "data = data.shuffle(6)  \n",
        "\n",
        "\n",
        "\n",
        "elems = 0\n",
        "for thing in data:\n",
        "    elems += 1\n",
        "    print(thing.numpy())\n",
        "print(\"\\nTotal number of elements: {}\".format(elems))"
      ]
    }
  ],
  "metadata": {
    "colab": {
      "collapsed_sections": [],
      "name": "Shuffle_Batch_Repeat.ipynb",
      "provenance": []
    },
    "kernelspec": {
      "display_name": "Python 3",
      "name": "python3"
    }
  },
  "nbformat": 4,
  "nbformat_minor": 0
}
