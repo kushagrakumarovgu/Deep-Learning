{
  "cells": [
    {
      "cell_type": "markdown",
      "metadata": {
        "id": "q4RBWS1HYzaC"
      },
      "source": [
        "Assignment 2"
      ]
    },
    {
      "cell_type": "code",
      "execution_count": 2,
      "metadata": {
        "colab": {
          "base_uri": "https://localhost:8080/"
        },
        "id": "mhSCC7uFXixi",
        "outputId": "00232347-e339-43fe-949d-88f0a42da485",
        "vscode": {
          "languageId": "python"
        }
      },
      "outputs": [
        {
          "name": "stdout",
          "output_type": "stream",
          "text": [
            "2.3.0\n"
          ]
        }
      ],
      "source": [
        "import tensorflow as tf\n",
        "import numpy as np\n",
        "import matplotlib.pyplot as plt\n",
        "from datasets import MNISTDataset\n",
        "import matplotlib.pyplot as plt\n",
        "\n",
        "print(tf.__version__)"
      ]
    },
    {
      "cell_type": "code",
      "execution_count": 3,
      "metadata": {
        "colab": {
          "base_uri": "https://localhost:8080/"
        },
        "id": "DpyWssLxW0MQ",
        "outputId": "3c7d5819-8e78-430c-d9ce-491753c95250",
        "vscode": {
          "languageId": "python"
        }
      },
      "outputs": [
        {
          "name": "stdout",
          "output_type": "stream",
          "text": [
            "Downloading data from https://storage.googleapis.com/tensorflow/tf-keras-datasets/mnist.npz\n",
            "11493376/11490434 [==============================] - 0s 0us/step\n"
          ]
        }
      ],
      "source": [
        "# basic MNIST\n",
        "\n",
        "# same thing we had earlier -- this just loads the numpy arrays\n",
        "mnist = tf.keras.datasets.mnist\n",
        "(train_images, train_labels), (test_images, test_labels) = mnist.load_data()\n",
        "\n",
        "train_images = train_images.reshape([-1,784])\n",
        "train_images = train_images.astype(np.float32) / 255\n",
        "\n",
        "test_images = test_images.reshape([-1,784])\n",
        "test_images = test_images.astype(np.float32) / 255\n",
        "\n",
        "test_labels = tf.cast(test_labels,tf.int32)\n",
        "\n",
        "# this is now different - using from_tensor_slices\n",
        "train_data = tf.data.Dataset.from_tensor_slices((train_images, train_labels))\n",
        "\n",
        "#print(train_data)\n",
        "batch_size = 128\n",
        "\n",
        "# train_data = train_data.shuffle(6000)\n",
        "# train_data = train_data.batch(batch_size)\n",
        "# train_data =train_data.repeat()\n",
        "\n",
        "train_data = train_data.shuffle(6000)\n",
        "train_data =train_data.repeat()\n",
        "train_data = train_data.batch(batch_size)\n",
        "\n",
        "\n",
        "def get_train_data():\n",
        "  while True:\n",
        "    for img, lbl in train_data:\n",
        "      if len(lbl) != batch_size:\n",
        "        print(\"Starting new epoch...\")\n",
        "      yield img, tf.cast(lbl,tf.int32) #tf.cast(img, tf.float32), tf.cast(lbl,tf.float32)\n",
        "\n",
        "\n"
      ]
    },
    {
      "cell_type": "code",
      "execution_count": 4,
      "metadata": {
        "id": "gDvgYAyxacK2",
        "vscode": {
          "languageId": "python"
        }
      },
      "outputs": [],
      "source": [
        "\"\"\" \n",
        "function generating the weights and paramters the network.\n",
        "inputs = 784 for MNIST data set.\n",
        "min_val & max_val specify the range for weights initialization.\n",
        "bias_val = To initialize the biases.\n",
        "hidden_units is a list that contain no. of neuron at each hidden layer.\n",
        "\"\"\"\n",
        "def network_generation(inputs, min_val, max_val, bias_val, hidden_units = [200,100,50]):\n",
        "    j = 1\n",
        "    weight_lst = [] \n",
        "    bias_lst = [] \n",
        "    weight_dict = {}\n",
        "    bias_dict = {}\n",
        "    for neuron in hidden_units:\n",
        "      weight_lst.append('w_%d'%j)\n",
        "      bias_lst.append('b_%d'%j)\n",
        "      j+=1\n",
        "\n",
        "    for param in range(len(weight_lst)):\n",
        "      neuron = hidden_units[param]\n",
        "      weight_dict[weight_lst[param]] = tf.Variable(tf.random.uniform(shape=[inputs, neuron], minval=min_val, maxval=max_val, dtype=tf.float32))\n",
        "      bias_dict[bias_lst[param]] = tf.Variable(tf.constant(bias_val, shape=neuron, dtype=tf.float32))\n",
        "      inputs = neuron\n",
        "\n",
        "    return weight_dict, bias_dict"
      ]
    },
    {
      "cell_type": "code",
      "execution_count": 5,
      "metadata": {
        "colab": {
          "base_uri": "https://localhost:8080/"
        },
        "id": "mIOaFbGik11f",
        "outputId": "b2281e2c-6991-4508-a9aa-29b599bb3a9b",
        "vscode": {
          "languageId": "python"
        }
      },
      "outputs": [
        {
          "name": "stdout",
          "output_type": "stream",
          "text": [
            "{'w_1': <tf.Variable 'Variable:0' shape=(784, 2) dtype=float32, numpy=\n",
            "array([[ 0.03359837, -0.0672034 ],\n",
            "       [ 0.04090955,  0.07587216],\n",
            "       [ 0.08511556, -0.05583179],\n",
            "       ...,\n",
            "       [-0.0756381 , -0.06121705],\n",
            "       [ 0.03912594,  0.09068825],\n",
            "       [-0.06749456, -0.03196897]], dtype=float32)>, 'w_2': <tf.Variable 'Variable:0' shape=(2, 2) dtype=float32, numpy=\n",
            "array([[ 0.08135564, -0.06417499],\n",
            "       [-0.04378347, -0.05024562]], dtype=float32)>}\n",
            "{'b_1': <tf.Variable 'Variable:0' shape=(2,) dtype=float32, numpy=array([1., 1.], dtype=float32)>, 'b_2': <tf.Variable 'Variable:0' shape=(2,) dtype=float32, numpy=array([1., 1.], dtype=float32)>}\n"
          ]
        }
      ],
      "source": [
        "# sample o/p for function network_generation for network with 2 hidden units and 2 neurons each.\n",
        "hidden_unit = [2,2]\n",
        "weight_dict , bias_dict = network_generation(784,-0.1,0.1,1,hidden_unit)\n",
        "print(weight_dict)\n",
        "print(bias_dict)"
      ]
    },
    {
      "cell_type": "code",
      "execution_count": 11,
      "metadata": {
        "id": "Pa6kc4zPilhL",
        "vscode": {
          "languageId": "python"
        }
      },
      "outputs": [],
      "source": [
        "gen_train_data = get_train_data() # Generator Object.\n",
        "#print(next(gen_train_data))\n",
        "\n",
        "\"\"\" function for forward_prop \"\"\"\n",
        "\n",
        "def forward_prop(train_steps, hidden_units, weight_dict, bias_dict, activation, W_out, b_out):\n",
        "\n",
        "    step_accuracy = []\n",
        "    step_loss = []\n",
        "    setp_epoch = []\n",
        "\n",
        "    for step in range(train_steps):\n",
        "      img_batch, lbl_batch = next(gen_train_data) #data.next_batch()\n",
        "\n",
        "      hidden = list()\n",
        "      with tf.GradientTape() as tape:\n",
        "        for i in range(len(hidden_units)):\n",
        "          hidden.append(activation(tf.matmul(img_batch, weight_dict[list(weight_dict.keys())[i]]) + bias_dict[list(bias_dict.keys())[i]]))\n",
        "          img_batch = hidden[i]\n",
        "\n",
        "        out = tf.matmul(hidden[-1], W_out) + b_out\n",
        "        xent = tf.reduce_mean(tf.nn.sparse_softmax_cross_entropy_with_logits(\n",
        "                logits=out, labels=lbl_batch))\n",
        "\n",
        "        weights = [weight_dict[k] for k in list(weight_dict.keys())]\n",
        "        biases = [bias_dict[k] for k in list(bias_dict.keys())]\n",
        "\n",
        "        total_layer =  weights + biases + [W_out, b_out]\n",
        "        grads = tape.gradient(xent, total_layer)\n",
        "        \n",
        "        weight_grad = 0\n",
        "        for k,v in weight_dict.items():\n",
        "            weight_dict[k].assign_sub(learning_rate * grads[weight_grad])\n",
        "            weight_grad+=1\n",
        "\n",
        "        for k,v in bias_dict.items():\n",
        "            bias_dict[k].assign_sub(learning_rate * grads[weight_grad])\n",
        "            weight_grad+=1\n",
        "        \n",
        "        W_out.assign_sub(learning_rate * grads[weight_grad])\n",
        "        weight_grad+=1\n",
        "        b_out.assign_sub(learning_rate * grads[weight_grad])\n",
        "\n",
        "        if not step % 100:\n",
        "            preds = tf.argmax(out, axis=1, output_type=tf.int32)\n",
        "            acc = tf.reduce_mean(tf.cast(tf.equal(preds, lbl_batch),\n",
        "                                tf.float32))\n",
        "            print(\"Loss: {} Accuracy: {}\".format(xent, acc))\n",
        "            step_accuracy.append(acc)\n",
        "            step_loss.append(xent)\n",
        "            setp_epoch.append(step)\n",
        "        \n",
        "    return step_accuracy, step_loss, setp_epoch, weight_dict, bias_dict, W_out, b_out"
      ]
    },
    {
      "cell_type": "code",
      "execution_count": 12,
      "metadata": {
        "id": "CfqK8sOujiQV",
        "vscode": {
          "languageId": "python"
        }
      },
      "outputs": [],
      "source": [
        "\"\"\" function for to calculate Accuracy on testing data.\"\"\"\n",
        "def prediction( hidden_units, weight_dict, bias_dict, activation, W_out, b_out):\n",
        "    hidden = list()\n",
        "    #img_batch = data.test_data\n",
        "    img_batch = test_images\n",
        "    for i in range(len(hidden_units)):\n",
        "        hidden.append(activation(tf.matmul(img_batch, weight_dict[list(weight_dict.keys())[i]]) + bias_dict[list(bias_dict.keys())[i]]))\n",
        "        img_batch = hidden[i]\n",
        "\n",
        "    out = tf.matmul(hidden[-1], W_out) + b_out\n",
        "\n",
        "    test_preds = tf.argmax(tf.matmul(hidden[-1], W_out) + b_out, axis=1, output_type=tf.int32)\n",
        "    \n",
        "    acc = tf.reduce_mean(tf.cast(tf.equal(test_preds, test_labels) ,tf.float32))\n",
        "    print(\"Accuracy on prediction data: \",acc)"
      ]
    },
    {
      "cell_type": "markdown",
      "metadata": {
        "id": "tvnITaIuj7DL"
      },
      "source": [
        "Below is the network containing a single hidden layer of 200 neurons.\n",
        "Activation function: relu\n"
      ]
    },
    {
      "cell_type": "code",
      "execution_count": 16,
      "metadata": {
        "colab": {
          "base_uri": "https://localhost:8080/"
        },
        "id": "6bRm6BHej9r6",
        "outputId": "3645a820-df95-4a69-a302-37dbab24255f",
        "vscode": {
          "languageId": "python"
        }
      },
      "outputs": [
        {
          "name": "stdout",
          "output_type": "stream",
          "text": [
            "Loss: 43.9923095703125 Accuracy: 0.15625\n",
            "Loss: 2.3483128547668457 Accuracy: 0.796875\n",
            "Loss: 1.1942014694213867 Accuracy: 0.8515625\n",
            "Loss: 0.9907293319702148 Accuracy: 0.8984375\n",
            "Loss: 1.6926934719085693 Accuracy: 0.7890625\n",
            "Loss: 0.4102671146392822 Accuracy: 0.921875\n",
            "Loss: 0.9568743705749512 Accuracy: 0.8671875\n",
            "Loss: 0.5431733727455139 Accuracy: 0.9140625\n",
            "Loss: 0.45439550280570984 Accuracy: 0.921875\n",
            "Loss: 0.6448560357093811 Accuracy: 0.9140625\n",
            "Loss: 0.6465226411819458 Accuracy: 0.9140625\n",
            "Loss: 0.4082590341567993 Accuracy: 0.9140625\n",
            "Loss: 0.43525904417037964 Accuracy: 0.921875\n",
            "Loss: 0.4666490852832794 Accuracy: 0.921875\n",
            "Loss: 0.16829346120357513 Accuracy: 0.96875\n",
            "Loss: 0.7466819882392883 Accuracy: 0.9375\n",
            "Loss: 0.42498233914375305 Accuracy: 0.9375\n",
            "Loss: 0.6291946172714233 Accuracy: 0.8828125\n",
            "Loss: 0.4810710549354553 Accuracy: 0.90625\n",
            "Loss: 0.4022447168827057 Accuracy: 0.9296875\n",
            "Loss: 0.20951053500175476 Accuracy: 0.9375\n",
            "Loss: 0.1041230708360672 Accuracy: 0.9765625\n",
            "Loss: 0.30572861433029175 Accuracy: 0.9296875\n",
            "Loss: 0.20917245745658875 Accuracy: 0.9375\n",
            "Loss: 0.19556479156017303 Accuracy: 0.9375\n",
            "Loss: 0.4078764319419861 Accuracy: 0.9453125\n",
            "Loss: 0.14471197128295898 Accuracy: 0.96875\n",
            "Loss: 0.5231235027313232 Accuracy: 0.921875\n",
            "Loss: 0.08005259931087494 Accuracy: 0.96875\n",
            "Loss: 0.1856277585029602 Accuracy: 0.9609375\n",
            "Loss: 0.21691232919692993 Accuracy: 0.9375\n",
            "Loss: 0.22707810997962952 Accuracy: 0.9375\n",
            "Loss: 0.18241402506828308 Accuracy: 0.953125\n",
            "Loss: 0.13379205763339996 Accuracy: 0.9609375\n",
            "Loss: 0.11424991488456726 Accuracy: 0.9609375\n",
            "Loss: 0.07417603582143784 Accuracy: 0.9609375\n",
            "Loss: 0.3425666093826294 Accuracy: 0.9140625\n",
            "Loss: 0.10670541971921921 Accuracy: 0.953125\n",
            "Loss: 0.21677759289741516 Accuracy: 0.9296875\n",
            "Loss: 0.21450656652450562 Accuracy: 0.9609375\n",
            "Loss: 0.14506003260612488 Accuracy: 0.96875\n",
            "Loss: 0.18706366419792175 Accuracy: 0.96875\n",
            "Loss: 0.27227982878685 Accuracy: 0.9296875\n",
            "Loss: 0.25252944231033325 Accuracy: 0.9296875\n",
            "Loss: 0.24811264872550964 Accuracy: 0.9453125\n",
            "Loss: 0.1558571457862854 Accuracy: 0.9609375\n",
            "Loss: 0.09788322448730469 Accuracy: 0.9609375\n",
            "Loss: 0.10398615896701813 Accuracy: 0.96875\n",
            "Loss: 0.07508981227874756 Accuracy: 0.9765625\n",
            "Loss: 0.25192469358444214 Accuracy: 0.9375\n",
            "Loss: 0.06580402702093124 Accuracy: 0.9765625\n",
            "Loss: 0.12231382727622986 Accuracy: 0.9765625\n",
            "Loss: 0.27934274077415466 Accuracy: 0.9296875\n",
            "Loss: 0.049894027411937714 Accuracy: 0.984375\n",
            "Loss: 0.060876306146383286 Accuracy: 0.9921875\n",
            "Loss: 0.10975140333175659 Accuracy: 0.9609375\n",
            "Loss: 0.1992371529340744 Accuracy: 0.9453125\n",
            "Loss: 0.15421000123023987 Accuracy: 0.96875\n",
            "Loss: 0.17668430507183075 Accuracy: 0.953125\n",
            "Loss: 0.0783887654542923 Accuracy: 0.9765625\n",
            "Loss: 0.14344781637191772 Accuracy: 0.953125\n",
            "Loss: 0.046206869184970856 Accuracy: 0.984375\n",
            "Loss: 0.20483168959617615 Accuracy: 0.9765625\n",
            "Loss: 0.07963419705629349 Accuracy: 0.96875\n",
            "Loss: 0.22710180282592773 Accuracy: 0.9453125\n",
            "Loss: 0.026551049202680588 Accuracy: 0.9921875\n",
            "Loss: 0.1250554323196411 Accuracy: 0.9375\n",
            "Loss: 0.15302520990371704 Accuracy: 0.953125\n",
            "Loss: 0.13508185744285583 Accuracy: 0.9609375\n",
            "Loss: 0.12564682960510254 Accuracy: 0.9765625\n",
            "Accuracy on prediction data:  tf.Tensor(0.9465, shape=(), dtype=float32)\n"
          ]
        }
      ],
      "source": [
        "num_class = 10\n",
        "train_steps = 7000\n",
        "learning_rate = 0.1\n",
        "hidden_units = [200]\n",
        "activation = tf.nn.relu\n",
        "\n",
        "\n",
        "W_out = tf.Variable(tf.random.uniform(shape=[200, num_class], minval=-1, maxval=1, dtype=tf.float32))\n",
        "b_out = tf.Variable(tf.constant(0, shape=num_class, dtype=tf.float32))\n",
        "\n",
        "weight_dict, bias_dict = network_generation(784, -1, 1, 0, hidden_units)\n",
        "accuracy, loss, epoch, weight, bias, out_wt, out_bias = forward_prop(train_steps, hidden_units, weight_dict, bias_dict, activation, W_out, b_out)\n",
        "prediction( hidden_units, weight, bias, activation, out_wt, out_bias)\n"
      ]
    },
    {
      "cell_type": "code",
      "execution_count": 17,
      "metadata": {
        "id": "1WFQgy21nDL8",
        "vscode": {
          "languageId": "python"
        }
      },
      "outputs": [],
      "source": [
        "def plotgraph(plots):\n",
        "    for i in [0,1 ]:\n",
        "      fig = plt.figure(figsize=(15,5))\n",
        "      ax = fig.add_subplot(1,3,i+1)\n",
        "      ax.grid()\n",
        "      plt.plot(epoch, plots[i])\n",
        "      plt.show()"
      ]
    },
    {
      "cell_type": "markdown",
      "metadata": {
        "id": "47wolVndmyEv"
      },
      "source": [
        "Graphs for Accuracy and Loss values"
      ]
    },
    {
      "cell_type": "code",
      "execution_count": null,
      "metadata": {
        "colab": {
          "base_uri": "https://localhost:8080/",
          "height": 623
        },
        "id": "Md0VoDxGsAPR",
        "outputId": "7df4c247-50a2-42a4-9efd-2a41108334d2",
        "vscode": {
          "languageId": "python"
        }
      },
      "outputs": [
        {
          "data": {
            "image/png": "[encoded data removed]",
            "text/plain": [
              "<Figure size 1080x360 with 1 Axes>"
            ]
          },
          "metadata": {
            "needs_background": "light",
            "tags": []
          },
          "output_type": "display_data"
        },
        {
          "data": {
            "image/png": "[encoded data removed]",
            "text/plain": [
              "<Figure size 1080x360 with 1 Axes>"
            ]
          },
          "metadata": {
            "needs_background": "light",
            "tags": []
          },
          "output_type": "display_data"
        }
      ],
      "source": [
        "plotgraph([accuracy, loss])"
      ]
    },
    {
      "cell_type": "markdown",
      "metadata": {
        "id": "mS20PmDBnYh0"
      },
      "source": [
        "Below is the network consisting of 2 hidden layers of 50 and 200 neurons, trained for 4000 epochs, with the learning rate of 0.1\n",
        "Activation function: relu"
      ]
    },
    {
      "cell_type": "code",
      "execution_count": 18,
      "metadata": {
        "colab": {
          "base_uri": "https://localhost:8080/"
        },
        "id": "osyEiOP4nbIc",
        "outputId": "c0e41aeb-1317-47b5-d00c-c50ce803bb56",
        "vscode": {
          "languageId": "python"
        }
      },
      "outputs": [
        {
          "name": "stdout",
          "output_type": "stream",
          "text": [
            "Loss: 123.9588851928711 Accuracy: 0.0546875\n",
            "Loss: 1.9465534687042236 Accuracy: 0.3203125\n",
            "Loss: 1.8438446521759033 Accuracy: 0.3515625\n",
            "Loss: 1.564421534538269 Accuracy: 0.4140625\n",
            "Loss: 1.5792043209075928 Accuracy: 0.4765625\n",
            "Loss: 1.5324416160583496 Accuracy: 0.5\n",
            "Loss: 1.44809889793396 Accuracy: 0.4921875\n",
            "Loss: 1.0860916376113892 Accuracy: 0.59375\n",
            "Loss: 1.1880557537078857 Accuracy: 0.6171875\n",
            "Loss: 1.0643659830093384 Accuracy: 0.6875\n",
            "Loss: 1.2567121982574463 Accuracy: 0.5546875\n",
            "Loss: 1.0782568454742432 Accuracy: 0.6015625\n",
            "Loss: 0.8090471029281616 Accuracy: 0.7421875\n",
            "Loss: 0.8536767363548279 Accuracy: 0.6796875\n",
            "Loss: 0.9526666402816772 Accuracy: 0.6015625\n",
            "Loss: 0.7100547552108765 Accuracy: 0.7578125\n",
            "Loss: 1.1443452835083008 Accuracy: 0.640625\n",
            "Loss: 0.8871350288391113 Accuracy: 0.6875\n",
            "Loss: 1.0459545850753784 Accuracy: 0.6796875\n",
            "Loss: 0.6364239454269409 Accuracy: 0.78125\n",
            "Loss: 0.8891313076019287 Accuracy: 0.7265625\n",
            "Loss: 0.6410452723503113 Accuracy: 0.75\n",
            "Loss: 0.7496203780174255 Accuracy: 0.703125\n",
            "Loss: 0.8907899856567383 Accuracy: 0.6953125\n",
            "Loss: 0.5843217968940735 Accuracy: 0.796875\n",
            "Loss: 0.6472597122192383 Accuracy: 0.75\n",
            "Loss: 0.702451765537262 Accuracy: 0.78125\n",
            "Loss: 0.7128258943557739 Accuracy: 0.734375\n",
            "Loss: 0.4550403952598572 Accuracy: 0.828125\n",
            "Loss: 0.605614185333252 Accuracy: 0.734375\n",
            "Loss: 0.6356168985366821 Accuracy: 0.796875\n",
            "Loss: 0.612653911113739 Accuracy: 0.7890625\n",
            "Loss: 0.9001415967941284 Accuracy: 0.75\n",
            "Loss: 0.6116947531700134 Accuracy: 0.7734375\n",
            "Loss: 0.6432623267173767 Accuracy: 0.734375\n",
            "Loss: 0.4832545518875122 Accuracy: 0.8515625\n",
            "Loss: 0.3824860155582428 Accuracy: 0.8359375\n",
            "Loss: 0.5087337493896484 Accuracy: 0.8125\n",
            "Loss: 0.5516067743301392 Accuracy: 0.7890625\n",
            "Loss: 0.6900517344474792 Accuracy: 0.7421875\n",
            "Accuracy on prediction data:  tf.Tensor(0.8056, shape=(), dtype=float32)\n"
          ]
        }
      ],
      "source": [
        "num_class = 10\n",
        "train_steps = 4000\n",
        "learning_rate = 0.1\n",
        "hidden_units = [50,200]\n",
        "activation = tf.nn.relu\n",
        "\n",
        "W_out = tf.Variable(tf.random.uniform(shape=[200, num_class], minval=-1, maxval=1, dtype=tf.float32))\n",
        "b_out = tf.Variable(tf.constant(0, shape=num_class, dtype=tf.float32))\n",
        "\n",
        "weight_dict, bias_dict = network_generation(784, -1, 1, 0, hidden_units)\n",
        "accuracy, loss, epoch, weight, bias, out_wt, out_bias = forward_prop(train_steps, hidden_units, weight_dict, bias_dict, activation, W_out, b_out)\n",
        "\n",
        "prediction(hidden_units, weight, bias, activation, out_wt, out_bias)"
      ]
    },
    {
      "cell_type": "markdown",
      "metadata": {
        "id": "NdAv804dnr9X"
      },
      "source": [
        "Plots for the accurcy and loss for training data for the above trained network"
      ]
    },
    {
      "cell_type": "code",
      "execution_count": 19,
      "metadata": {
        "colab": {
          "base_uri": "https://localhost:8080/",
          "height": 623
        },
        "id": "p4oSgYJ8nroR",
        "outputId": "7eb71604-4598-4ec2-ddeb-2d8c00b79016",
        "vscode": {
          "languageId": "python"
        }
      },
      "outputs": [
        {
          "data": {
            "image/png": "[encoded data removed]",
            "text/plain": [
              "<Figure size 1080x360 with 1 Axes>"
            ]
          },
          "metadata": {
            "needs_background": "light",
            "tags": []
          },
          "output_type": "display_data"
        },
        {
          "data": {
            "image/png": "[encoded data removed]",
            "text/plain": [
              "<Figure size 1080x360 with 1 Axes>"
            ]
          },
          "metadata": {
            "needs_background": "light",
            "tags": []
          },
          "output_type": "display_data"
        }
      ],
      "source": [
        "plotgraph([accuracy, loss])"
      ]
    },
    {
      "cell_type": "markdown",
      "metadata": {
        "id": "v0WpMKOPn5qY"
      },
      "source": [
        "Network with three hidden units consiting of 50,150 and 200 neurons, with the learning rate value of 0.01 , trained for 4000 epochs.\n",
        "Activation function: tanh"
      ]
    },
    {
      "cell_type": "code",
      "execution_count": 20,
      "metadata": {
        "colab": {
          "base_uri": "https://localhost:8080/"
        },
        "id": "zPHhb2bDn7ur",
        "outputId": "973034dc-1b7b-411e-9e93-48114bb162b4",
        "vscode": {
          "languageId": "python"
        }
      },
      "outputs": [
        {
          "name": "stdout",
          "output_type": "stream",
          "text": [
            "Loss: 11.98684310913086 Accuracy: 0.1875\n",
            "Loss: 6.908517837524414 Accuracy: 0.21875\n",
            "Loss: 4.145108699798584 Accuracy: 0.4140625\n",
            "Loss: 3.7742555141448975 Accuracy: 0.4140625\n",
            "Loss: 3.0443530082702637 Accuracy: 0.5234375\n",
            "Loss: 2.369861602783203 Accuracy: 0.5703125\n",
            "Loss: 2.490365505218506 Accuracy: 0.53125\n",
            "Loss: 2.02473783493042 Accuracy: 0.609375\n",
            "Loss: 2.632570743560791 Accuracy: 0.5625\n",
            "Loss: 2.2288756370544434 Accuracy: 0.546875\n",
            "Loss: 2.1552157402038574 Accuracy: 0.640625\n",
            "Loss: 2.8143253326416016 Accuracy: 0.6015625\n",
            "Loss: 1.8328397274017334 Accuracy: 0.6796875\n",
            "Loss: 2.2334699630737305 Accuracy: 0.625\n",
            "Loss: 1.9661054611206055 Accuracy: 0.65625\n",
            "Loss: 1.620052695274353 Accuracy: 0.734375\n",
            "Loss: 1.4018245935440063 Accuracy: 0.65625\n",
            "Loss: 1.282778263092041 Accuracy: 0.7265625\n",
            "Loss: 1.42667555809021 Accuracy: 0.7265625\n",
            "Loss: 1.287994623184204 Accuracy: 0.734375\n",
            "Loss: 1.00263249874115 Accuracy: 0.7578125\n",
            "Loss: 1.4113738536834717 Accuracy: 0.703125\n",
            "Loss: 1.8931961059570312 Accuracy: 0.6796875\n",
            "Loss: 1.3218739032745361 Accuracy: 0.7578125\n",
            "Loss: 1.2662628889083862 Accuracy: 0.7734375\n",
            "Loss: 1.3604450225830078 Accuracy: 0.765625\n",
            "Loss: 1.025954246520996 Accuracy: 0.7421875\n",
            "Loss: 0.765650749206543 Accuracy: 0.8046875\n",
            "Loss: 0.864131510257721 Accuracy: 0.765625\n",
            "Loss: 1.3406336307525635 Accuracy: 0.7421875\n",
            "Loss: 1.1852755546569824 Accuracy: 0.734375\n",
            "Loss: 0.9718994498252869 Accuracy: 0.8125\n",
            "Loss: 1.1789896488189697 Accuracy: 0.765625\n",
            "Loss: 1.062652349472046 Accuracy: 0.75\n",
            "Loss: 0.931017279624939 Accuracy: 0.7890625\n",
            "Loss: 1.3582496643066406 Accuracy: 0.734375\n",
            "Loss: 1.1123968362808228 Accuracy: 0.7578125\n",
            "Loss: 0.7938804626464844 Accuracy: 0.8203125\n",
            "Loss: 1.0714218616485596 Accuracy: 0.78125\n",
            "Loss: 0.6639010906219482 Accuracy: 0.84375\n",
            "Accuracy on prediction data:  tf.Tensor(0.7673, shape=(), dtype=float32)\n"
          ]
        }
      ],
      "source": [
        "num_class = 10\n",
        "train_steps = 4000\n",
        "learning_rate = 0.01\n",
        "hidden_units = [50,150,200]\n",
        "activation = tf.nn.tanh\n",
        "\n",
        "W_out = tf.Variable(tf.random.uniform(shape=[200, num_class], minval=-1, maxval=1, dtype=tf.float32))\n",
        "b_out = tf.Variable(tf.constant(0, shape=num_class, dtype=tf.float32))\n",
        "\n",
        "weight_dict, bias_dict = network_generation(784, -1, 1, 0, hidden_units)\n",
        "accuracy, loss, epoch, weight, bias, out_wt, out_bias = forward_prop(train_steps,hidden_units, weight_dict, bias_dict, activation, W_out, b_out)\n",
        "\n",
        "prediction(hidden_units, weight, bias, activation, out_wt, out_bias)"
      ]
    },
    {
      "cell_type": "markdown",
      "metadata": {
        "id": "udm_nPqmowPl"
      },
      "source": [
        "Plots depicting the accuracy and loss value for the above network."
      ]
    },
    {
      "cell_type": "code",
      "execution_count": null,
      "metadata": {
        "colab": {
          "base_uri": "https://localhost:8080/",
          "height": 623
        },
        "id": "NwpDjnlhowkl",
        "outputId": "a4535469-f8e3-40ec-9c2f-e9ca65ad0634",
        "vscode": {
          "languageId": "python"
        }
      },
      "outputs": [
        {
          "data": {
            "image/png": "[encoded data removed]",
            "text/plain": [
              "<Figure size 1080x360 with 1 Axes>"
            ]
          },
          "metadata": {
            "needs_background": "light",
            "tags": []
          },
          "output_type": "display_data"
        },
        {
          "data": {
            "image/png": "[encoded data removed]",
            "text/plain": [
              "<Figure size 1080x360 with 1 Axes>"
            ]
          },
          "metadata": {
            "needs_background": "light",
            "tags": []
          },
          "output_type": "display_data"
        }
      ],
      "source": [
        "plotgraph([accuracy, loss])"
      ]
    },
    {
      "cell_type": "markdown",
      "metadata": {
        "id": "0g_h2Lwwpnwt"
      },
      "source": [
        "**MNIST Fashion Data set** "
      ]
    },
    {
      "cell_type": "code",
      "execution_count": null,
      "metadata": {
        "colab": {
          "base_uri": "https://localhost:8080/",
          "height": 401
        },
        "id": "9CIEUMcHpuKW",
        "outputId": "b19e04cc-5d13-4513-d297-5f107aea49a8",
        "vscode": {
          "languageId": "python"
        }
      },
      "outputs": [
        {
          "name": "stdout",
          "output_type": "stream",
          "text": [
            "Downloading data from https://storage.googleapis.com/tensorflow/tf-keras-datasets/train-labels-idx1-ubyte.gz\n",
            "32768/29515 [=================================] - 0s 0us/step\n",
            "Downloading data from https://storage.googleapis.com/tensorflow/tf-keras-datasets/train-images-idx3-ubyte.gz\n",
            "26427392/26421880 [==============================] - 0s 0us/step\n",
            "Downloading data from https://storage.googleapis.com/tensorflow/tf-keras-datasets/t10k-labels-idx1-ubyte.gz\n",
            "8192/5148 [===============================================] - 0s 0us/step\n",
            "Downloading data from https://storage.googleapis.com/tensorflow/tf-keras-datasets/t10k-images-idx3-ubyte.gz\n",
            "4423680/4422102 [==============================] - 0s 0us/step\n"
          ]
        },
        {
          "data": {
            "image/png": "[encoded data removed]",
            "text/plain": [
              "<Figure size 432x288 with 1 Axes>"
            ]
          },
          "metadata": {
            "needs_background": "light",
            "tags": []
          },
          "output_type": "display_data"
        }
      ],
      "source": [
        "mnist = tf.keras.datasets.fashion_mnist\n",
        "(train_images, train_labels), (test_images, test_labels) = mnist.load_data()\n",
        "\n",
        "plt.imshow(train_images[0], cmap=\"Greys_r\")\n",
        "\n",
        "data = MNISTDataset(train_images.reshape([-1, 784]), train_labels, \n",
        "                    test_images.reshape([-1, 784]), test_labels,\n",
        "                    batch_size=128)"
      ]
    },
    {
      "cell_type": "code",
      "execution_count": null,
      "metadata": {
        "colab": {
          "base_uri": "https://localhost:8080/",
          "height": 1000
        },
        "id": "rWM3avR6p7EL",
        "outputId": "40973a13-b048-46e4-ff36-2f3e1d78550a",
        "vscode": {
          "languageId": "python"
        }
      },
      "outputs": [
        {
          "name": "stdout",
          "output_type": "stream",
          "text": [
            "Loss: 46.86957550048828 Accuracy: 0.140625\n",
            "Starting new epoch...\n",
            "Loss: 9.045614242553711 Accuracy: 0.4765625\n",
            "Loss: 6.500672340393066 Accuracy: 0.6015625\n",
            "Loss: 5.517440319061279 Accuracy: 0.6640625\n",
            "Loss: 3.848068952560425 Accuracy: 0.71875\n",
            "Starting new epoch...\n",
            "Loss: 1.9053575992584229 Accuracy: 0.828125\n",
            "Loss: 2.964489221572876 Accuracy: 0.8125\n",
            "Loss: 3.7062649726867676 Accuracy: 0.7421875\n",
            "Loss: 1.99020516872406 Accuracy: 0.7734375\n",
            "Loss: 1.7612535953521729 Accuracy: 0.828125\n",
            "Starting new epoch...\n",
            "Loss: 1.6262128353118896 Accuracy: 0.8515625\n",
            "Loss: 2.420034646987915 Accuracy: 0.8203125\n",
            "Loss: 1.7178643941879272 Accuracy: 0.828125\n",
            "Loss: 1.0525093078613281 Accuracy: 0.8828125\n",
            "Loss: 1.5351531505584717 Accuracy: 0.8828125\n",
            "Starting new epoch...\n",
            "Loss: 2.389589309692383 Accuracy: 0.8203125\n",
            "Loss: 1.177825689315796 Accuracy: 0.8515625\n",
            "Loss: 1.0572326183319092 Accuracy: 0.8046875\n",
            "Loss: 2.1848974227905273 Accuracy: 0.7890625\n",
            "Starting new epoch...\n",
            "Loss: 0.7021768093109131 Accuracy: 0.875\n",
            "Loss: 1.9422188997268677 Accuracy: 0.8125\n",
            "Loss: 1.6540610790252686 Accuracy: 0.8125\n",
            "Loss: 1.4041966199874878 Accuracy: 0.8828125\n",
            "Loss: 1.1996338367462158 Accuracy: 0.8515625\n",
            "Starting new epoch...\n",
            "Loss: 0.7738724946975708 Accuracy: 0.9140625\n",
            "Loss: 1.14992356300354 Accuracy: 0.8515625\n",
            "Loss: 0.9436964988708496 Accuracy: 0.875\n",
            "Loss: 1.8409442901611328 Accuracy: 0.84375\n",
            "Loss: 0.9838212728500366 Accuracy: 0.9140625\n",
            "Starting new epoch...\n",
            "Loss: 0.6235985159873962 Accuracy: 0.9140625\n",
            "Loss: 1.448699712753296 Accuracy: 0.8515625\n",
            "Loss: 0.747327983379364 Accuracy: 0.90625\n",
            "Loss: 1.0676628351211548 Accuracy: 0.8671875\n",
            "Starting new epoch...\n",
            "Loss: 0.6281092762947083 Accuracy: 0.921875\n",
            "Loss: 1.250503420829773 Accuracy: 0.8828125\n",
            "Loss: 1.1320044994354248 Accuracy: 0.8671875\n",
            "Loss: 0.7322067618370056 Accuracy: 0.875\n",
            "Loss: 1.4895297288894653 Accuracy: 0.875\n",
            "Starting new epoch...\n",
            "Loss: 1.3688642978668213 Accuracy: 0.9140625\n",
            "Loss: 1.0563485622406006 Accuracy: 0.890625\n"
          ]
        },
        {
          "ename": "InvalidArgumentError",
          "evalue": "ignored",
          "output_type": "error",
          "traceback": [
            "\u001b[0;31m---------------------------------------------------------------------------\u001b[0m",
            "\u001b[0;31mInvalidArgumentError\u001b[0m                      Traceback (most recent call last)",
            "\u001b[0;32m<ipython-input-160-42a39ff78726>\u001b[0m in \u001b[0;36m<module>\u001b[0;34m()\u001b[0m\n\u001b[1;32m     11\u001b[0m \u001b[0maccuracy\u001b[0m\u001b[0;34m,\u001b[0m \u001b[0mloss\u001b[0m\u001b[0;34m,\u001b[0m \u001b[0mepoch\u001b[0m\u001b[0;34m,\u001b[0m \u001b[0mweight\u001b[0m\u001b[0;34m,\u001b[0m \u001b[0mbias\u001b[0m\u001b[0;34m,\u001b[0m \u001b[0mout_wt\u001b[0m\u001b[0;34m,\u001b[0m \u001b[0mout_bias\u001b[0m \u001b[0;34m=\u001b[0m \u001b[0mforward_prop\u001b[0m\u001b[0;34m(\u001b[0m\u001b[0mtrain_steps\u001b[0m\u001b[0;34m,\u001b[0m \u001b[0mdata\u001b[0m\u001b[0;34m,\u001b[0m \u001b[0mhidden_units\u001b[0m\u001b[0;34m,\u001b[0m \u001b[0mweight_dict\u001b[0m\u001b[0;34m,\u001b[0m \u001b[0mbias_dict\u001b[0m\u001b[0;34m,\u001b[0m \u001b[0mactivation\u001b[0m\u001b[0;34m,\u001b[0m \u001b[0mW_out\u001b[0m\u001b[0;34m,\u001b[0m \u001b[0mb_out\u001b[0m\u001b[0;34m)\u001b[0m\u001b[0;34m\u001b[0m\u001b[0;34m\u001b[0m\u001b[0m\n\u001b[1;32m     12\u001b[0m \u001b[0;34m\u001b[0m\u001b[0m\n\u001b[0;32m---> 13\u001b[0;31m \u001b[0mprediction\u001b[0m\u001b[0;34m(\u001b[0m\u001b[0mdata\u001b[0m\u001b[0;34m,\u001b[0m \u001b[0mhidden_units\u001b[0m\u001b[0;34m,\u001b[0m \u001b[0mweight\u001b[0m\u001b[0;34m,\u001b[0m \u001b[0mbias\u001b[0m\u001b[0;34m,\u001b[0m \u001b[0mactivation\u001b[0m\u001b[0;34m,\u001b[0m \u001b[0mout_wt\u001b[0m\u001b[0;34m,\u001b[0m \u001b[0mout_bias\u001b[0m\u001b[0;34m)\u001b[0m\u001b[0;34m\u001b[0m\u001b[0;34m\u001b[0m\u001b[0m\n\u001b[0m",
            "\u001b[0;32m<ipython-input-151-c6649f4f08d5>\u001b[0m in \u001b[0;36mprediction\u001b[0;34m(data, hidden_units, weight_dict, bias_dict, activation, W_out, b_out)\u001b[0m\n\u001b[1;32m      5\u001b[0m     \u001b[0mimg_batch\u001b[0m \u001b[0;34m=\u001b[0m \u001b[0mtest_images\u001b[0m\u001b[0;34m\u001b[0m\u001b[0;34m\u001b[0m\u001b[0m\n\u001b[1;32m      6\u001b[0m     \u001b[0;32mfor\u001b[0m \u001b[0mi\u001b[0m \u001b[0;32min\u001b[0m \u001b[0mrange\u001b[0m\u001b[0;34m(\u001b[0m\u001b[0mlen\u001b[0m\u001b[0;34m(\u001b[0m\u001b[0mhidden_units\u001b[0m\u001b[0;34m)\u001b[0m\u001b[0;34m)\u001b[0m\u001b[0;34m:\u001b[0m\u001b[0;34m\u001b[0m\u001b[0;34m\u001b[0m\u001b[0m\n\u001b[0;32m----> 7\u001b[0;31m         \u001b[0mhidden\u001b[0m\u001b[0;34m.\u001b[0m\u001b[0mappend\u001b[0m\u001b[0;34m(\u001b[0m\u001b[0mactivation\u001b[0m\u001b[0;34m(\u001b[0m\u001b[0mtf\u001b[0m\u001b[0;34m.\u001b[0m\u001b[0mmatmul\u001b[0m\u001b[0;34m(\u001b[0m\u001b[0mimg_batch\u001b[0m\u001b[0;34m,\u001b[0m \u001b[0mweight_dict\u001b[0m\u001b[0;34m[\u001b[0m\u001b[0mlist\u001b[0m\u001b[0;34m(\u001b[0m\u001b[0mweight_dict\u001b[0m\u001b[0;34m.\u001b[0m\u001b[0mkeys\u001b[0m\u001b[0;34m(\u001b[0m\u001b[0;34m)\u001b[0m\u001b[0;34m)\u001b[0m\u001b[0;34m[\u001b[0m\u001b[0mi\u001b[0m\u001b[0;34m]\u001b[0m\u001b[0;34m]\u001b[0m\u001b[0;34m)\u001b[0m \u001b[0;34m+\u001b[0m \u001b[0mbias_dict\u001b[0m\u001b[0;34m[\u001b[0m\u001b[0mlist\u001b[0m\u001b[0;34m(\u001b[0m\u001b[0mbias_dict\u001b[0m\u001b[0;34m.\u001b[0m\u001b[0mkeys\u001b[0m\u001b[0;34m(\u001b[0m\u001b[0;34m)\u001b[0m\u001b[0;34m)\u001b[0m\u001b[0;34m[\u001b[0m\u001b[0mi\u001b[0m\u001b[0;34m]\u001b[0m\u001b[0;34m]\u001b[0m\u001b[0;34m)\u001b[0m\u001b[0;34m)\u001b[0m\u001b[0;34m\u001b[0m\u001b[0;34m\u001b[0m\u001b[0m\n\u001b[0m\u001b[1;32m      8\u001b[0m         \u001b[0mimg_batch\u001b[0m \u001b[0;34m=\u001b[0m \u001b[0mhidden\u001b[0m\u001b[0;34m[\u001b[0m\u001b[0mi\u001b[0m\u001b[0;34m]\u001b[0m\u001b[0;34m\u001b[0m\u001b[0;34m\u001b[0m\u001b[0m\n\u001b[1;32m      9\u001b[0m \u001b[0;34m\u001b[0m\u001b[0m\n",
            "\u001b[0;32m/usr/local/lib/python3.6/dist-packages/tensorflow/python/util/dispatch.py\u001b[0m in \u001b[0;36mwrapper\u001b[0;34m(*args, **kwargs)\u001b[0m\n\u001b[1;32m    199\u001b[0m     \u001b[0;34m\"\"\"Call target, and fall back on dispatchers if there is a TypeError.\"\"\"\u001b[0m\u001b[0;34m\u001b[0m\u001b[0;34m\u001b[0m\u001b[0m\n\u001b[1;32m    200\u001b[0m     \u001b[0;32mtry\u001b[0m\u001b[0;34m:\u001b[0m\u001b[0;34m\u001b[0m\u001b[0;34m\u001b[0m\u001b[0m\n\u001b[0;32m--> 201\u001b[0;31m       \u001b[0;32mreturn\u001b[0m \u001b[0mtarget\u001b[0m\u001b[0;34m(\u001b[0m\u001b[0;34m*\u001b[0m\u001b[0margs\u001b[0m\u001b[0;34m,\u001b[0m \u001b[0;34m**\u001b[0m\u001b[0mkwargs\u001b[0m\u001b[0;34m)\u001b[0m\u001b[0;34m\u001b[0m\u001b[0;34m\u001b[0m\u001b[0m\n\u001b[0m\u001b[1;32m    202\u001b[0m     \u001b[0;32mexcept\u001b[0m \u001b[0;34m(\u001b[0m\u001b[0mTypeError\u001b[0m\u001b[0;34m,\u001b[0m \u001b[0mValueError\u001b[0m\u001b[0;34m)\u001b[0m\u001b[0;34m:\u001b[0m\u001b[0;34m\u001b[0m\u001b[0;34m\u001b[0m\u001b[0m\n\u001b[1;32m    203\u001b[0m       \u001b[0;31m# Note: convert_to_eager_tensor currently raises a ValueError, not a\u001b[0m\u001b[0;34m\u001b[0m\u001b[0;34m\u001b[0m\u001b[0;34m\u001b[0m\u001b[0m\n",
            "\u001b[0;32m/usr/local/lib/python3.6/dist-packages/tensorflow/python/ops/math_ops.py\u001b[0m in \u001b[0;36mmatmul\u001b[0;34m(a, b, transpose_a, transpose_b, adjoint_a, adjoint_b, a_is_sparse, b_is_sparse, name)\u001b[0m\n\u001b[1;32m   3215\u001b[0m         \u001b[0madjoint_b\u001b[0m \u001b[0;34m=\u001b[0m \u001b[0;32mTrue\u001b[0m\u001b[0;34m\u001b[0m\u001b[0;34m\u001b[0m\u001b[0m\n\u001b[1;32m   3216\u001b[0m       return gen_math_ops.batch_mat_mul_v2(\n\u001b[0;32m-> 3217\u001b[0;31m           a, b, adj_x=adjoint_a, adj_y=adjoint_b, name=name)\n\u001b[0m\u001b[1;32m   3218\u001b[0m \u001b[0;34m\u001b[0m\u001b[0m\n\u001b[1;32m   3219\u001b[0m     \u001b[0;31m# Neither matmul nor sparse_matmul support adjoint, so we conjugate\u001b[0m\u001b[0;34m\u001b[0m\u001b[0;34m\u001b[0m\u001b[0;34m\u001b[0m\u001b[0m\n",
            "\u001b[0;32m/usr/local/lib/python3.6/dist-packages/tensorflow/python/ops/gen_math_ops.py\u001b[0m in \u001b[0;36mbatch_mat_mul_v2\u001b[0;34m(x, y, adj_x, adj_y, name)\u001b[0m\n\u001b[1;32m   1544\u001b[0m       \u001b[0;32mreturn\u001b[0m \u001b[0m_result\u001b[0m\u001b[0;34m\u001b[0m\u001b[0;34m\u001b[0m\u001b[0m\n\u001b[1;32m   1545\u001b[0m     \u001b[0;32mexcept\u001b[0m \u001b[0m_core\u001b[0m\u001b[0;34m.\u001b[0m\u001b[0m_NotOkStatusException\u001b[0m \u001b[0;32mas\u001b[0m \u001b[0me\u001b[0m\u001b[0;34m:\u001b[0m\u001b[0;34m\u001b[0m\u001b[0;34m\u001b[0m\u001b[0m\n\u001b[0;32m-> 1546\u001b[0;31m       \u001b[0m_ops\u001b[0m\u001b[0;34m.\u001b[0m\u001b[0mraise_from_not_ok_status\u001b[0m\u001b[0;34m(\u001b[0m\u001b[0me\u001b[0m\u001b[0;34m,\u001b[0m \u001b[0mname\u001b[0m\u001b[0;34m)\u001b[0m\u001b[0;34m\u001b[0m\u001b[0;34m\u001b[0m\u001b[0m\n\u001b[0m\u001b[1;32m   1547\u001b[0m     \u001b[0;32mexcept\u001b[0m \u001b[0m_core\u001b[0m\u001b[0;34m.\u001b[0m\u001b[0m_FallbackException\u001b[0m\u001b[0;34m:\u001b[0m\u001b[0;34m\u001b[0m\u001b[0;34m\u001b[0m\u001b[0m\n\u001b[1;32m   1548\u001b[0m       \u001b[0;32mpass\u001b[0m\u001b[0;34m\u001b[0m\u001b[0;34m\u001b[0m\u001b[0m\n",
            "\u001b[0;32m/usr/local/lib/python3.6/dist-packages/tensorflow/python/framework/ops.py\u001b[0m in \u001b[0;36mraise_from_not_ok_status\u001b[0;34m(e, name)\u001b[0m\n\u001b[1;32m   6841\u001b[0m   \u001b[0mmessage\u001b[0m \u001b[0;34m=\u001b[0m \u001b[0me\u001b[0m\u001b[0;34m.\u001b[0m\u001b[0mmessage\u001b[0m \u001b[0;34m+\u001b[0m \u001b[0;34m(\u001b[0m\u001b[0;34m\" name: \"\u001b[0m \u001b[0;34m+\u001b[0m \u001b[0mname\u001b[0m \u001b[0;32mif\u001b[0m \u001b[0mname\u001b[0m \u001b[0;32mis\u001b[0m \u001b[0;32mnot\u001b[0m \u001b[0;32mNone\u001b[0m \u001b[0;32melse\u001b[0m \u001b[0;34m\"\"\u001b[0m\u001b[0;34m)\u001b[0m\u001b[0;34m\u001b[0m\u001b[0;34m\u001b[0m\u001b[0m\n\u001b[1;32m   6842\u001b[0m   \u001b[0;31m# pylint: disable=protected-access\u001b[0m\u001b[0;34m\u001b[0m\u001b[0;34m\u001b[0m\u001b[0;34m\u001b[0m\u001b[0m\n\u001b[0;32m-> 6843\u001b[0;31m   \u001b[0msix\u001b[0m\u001b[0;34m.\u001b[0m\u001b[0mraise_from\u001b[0m\u001b[0;34m(\u001b[0m\u001b[0mcore\u001b[0m\u001b[0;34m.\u001b[0m\u001b[0m_status_to_exception\u001b[0m\u001b[0;34m(\u001b[0m\u001b[0me\u001b[0m\u001b[0;34m.\u001b[0m\u001b[0mcode\u001b[0m\u001b[0;34m,\u001b[0m \u001b[0mmessage\u001b[0m\u001b[0;34m)\u001b[0m\u001b[0;34m,\u001b[0m \u001b[0;32mNone\u001b[0m\u001b[0;34m)\u001b[0m\u001b[0;34m\u001b[0m\u001b[0;34m\u001b[0m\u001b[0m\n\u001b[0m\u001b[1;32m   6844\u001b[0m   \u001b[0;31m# pylint: enable=protected-access\u001b[0m\u001b[0;34m\u001b[0m\u001b[0;34m\u001b[0m\u001b[0;34m\u001b[0m\u001b[0m\n\u001b[1;32m   6845\u001b[0m \u001b[0;34m\u001b[0m\u001b[0m\n",
            "\u001b[0;32m/usr/local/lib/python3.6/dist-packages/six.py\u001b[0m in \u001b[0;36mraise_from\u001b[0;34m(value, from_value)\u001b[0m\n",
            "\u001b[0;31mInvalidArgumentError\u001b[0m: Value for attr 'T' of uint8 is not in the list of allowed values: bfloat16, half, float, double, int32, int64, complex64, complex128\n\t; NodeDef: {{node BatchMatMulV2}}; Op<name=BatchMatMulV2; signature=x:T, y:T -> output:T; attr=T:type,allowed=[DT_BFLOAT16, DT_HALF, DT_FLOAT, DT_DOUBLE, DT_INT32, DT_INT64, DT_COMPLEX64, DT_COMPLEX128]; attr=adj_x:bool,default=false; attr=adj_y:bool,default=false> [Op:BatchMatMulV2]"
          ]
        }
      ],
      "source": [
        "num_class = 10\n",
        "train_steps = 4000\n",
        "learning_rate = 0.01\n",
        "hidden_units = [200]\n",
        "activation = tf.nn.relu\n",
        "\n",
        "W_out = tf.Variable(tf.random.uniform(shape=[200, num_class], minval=-1, maxval=1, dtype=tf.float32))\n",
        "b_out = tf.Variable(tf.constant(0, shape=num_class, dtype=tf.float32))\n",
        "\n",
        "weight_dict, bias_dict = network_generation(784, -1, 1, 0, hidden_units)\n",
        "accuracy, loss, epoch, weight, bias, out_wt, out_bias = forward_prop(train_steps, data, hidden_units, weight_dict, bias_dict, activation, W_out, b_out)\n",
        "\n",
        "prediction(data, hidden_units, weight, bias, activation, out_wt, out_bias)"
      ]
    },
    {
      "cell_type": "code",
      "execution_count": null,
      "metadata": {
        "id": "Bvtuz2KaqxDs",
        "vscode": {
          "languageId": "python"
        }
      },
      "outputs": [],
      "source": [
        "plotgraph([accuracy, loss])"
      ]
    },
    {
      "cell_type": "code",
      "execution_count": null,
      "metadata": {
        "id": "PslcaDq7qzGs",
        "vscode": {
          "languageId": "python"
        }
      },
      "outputs": [],
      "source": [
        "plotgraph([accuracy,loss])"
      ]
    },
    {
      "cell_type": "code",
      "execution_count": null,
      "metadata": {
        "id": "jtx6m73qtekx",
        "vscode": {
          "languageId": "python"
        }
      },
      "outputs": [],
      "source": [
        "num_class = 10\n",
        "train_steps = 4000\n",
        "learning_rate = 0.1\n",
        "hidden_units = [50, 150]\n",
        "activation = tf.nn.tanh\n",
        "\n",
        "W_out = tf.Variable(tf.random.uniform(shape=[150, num_class], minval=-1, maxval=1, dtype=tf.float32))\n",
        "b_out = tf.Variable(tf.constant(0, shape=num_class, dtype=tf.float32))\n",
        "\n",
        "weight_dict, bias_dict = network_generation(784, -1, 1, 0, hidden_units)\n",
        "accuracy, loss, epoch, weight, bias, out_wt, out_bias = forward_prop(train_steps, data, hidden_units, weight_dict, bias_dict, activation, W_out, b_out)\n",
        "\n",
        "prediction(data, hidden_units, weight, bias, activation, out_wt, out_bias)"
      ]
    },
    {
      "cell_type": "code",
      "execution_count": null,
      "metadata": {
        "id": "7aF9Ju-stm1c",
        "vscode": {
          "languageId": "python"
        }
      },
      "outputs": [],
      "source": [
        "plotgraph([accuracy,loss])"
      ]
    },
    {
      "cell_type": "markdown",
      "metadata": {
        "id": "wWWZoewftvTl"
      },
      "source": [
        "currently we are making the network by defining the architecture manually multiplying the weights with the input and passing this as input to the next layer, this entire\n",
        "functionality in one function.\n",
        "\n",
        "Parameters such as num_hidden layers, epochs, learning_rate should not be defined again and again, rather should be coming from a config, where changing the values in function \n",
        "should be able to run the training."
      ]
    }
  ],
  "metadata": {
    "colab": {
      "collapsed_sections": [],
      "name": "MLP_IDL_SBR.ipynb",
      "provenance": []
    },
    "kernelspec": {
      "display_name": "Python 3",
      "name": "python3"
    }
  },
  "nbformat": 4,
  "nbformat_minor": 0
}
